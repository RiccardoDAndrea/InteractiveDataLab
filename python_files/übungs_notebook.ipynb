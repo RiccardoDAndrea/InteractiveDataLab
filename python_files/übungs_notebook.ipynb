{
 "cells": [
  {
   "cell_type": "code",
   "execution_count": 2,
   "metadata": {},
   "outputs": [],
   "source": [
    "import yfinance as yf\n",
    "import pandas as pd\n",
    "import plotly.express as px\n",
    "\n"
   ]
  },
  {
   "cell_type": "code",
   "execution_count": 3,
   "metadata": {},
   "outputs": [
    {
     "name": "stdout",
     "output_type": "stream",
     "text": [
      "        Date          EBITDA\n",
      "0 2023-09-30  129188000000.0\n",
      "1 2022-09-30  133138000000.0\n",
      "2 2021-09-30  123136000000.0\n",
      "3 2020-09-30   81020000000.0\n"
     ]
    }
   ],
   "source": [
    "import yfinance as yf\n",
    "import pandas as pd\n",
    "stock = 'AAPL'\n",
    "\n",
    "aapl = yf.Ticker(stock)\n",
    "financials = aapl.get_financials()\n",
    "ebitda_data = financials.loc['EBITDA', :]\n",
    "df = pd.DataFrame(ebitda_data).reset_index()  # Resetting index to convert the index to a column\n",
    "df = df.rename(columns={'index': 'Date'})\n",
    "print(df)"
   ]
  },
  {
   "cell_type": "code",
   "execution_count": 4,
   "metadata": {},
   "outputs": [
    {
     "data": {
      "text/html": [
       "<div>\n",
       "<style scoped>\n",
       "    .dataframe tbody tr th:only-of-type {\n",
       "        vertical-align: middle;\n",
       "    }\n",
       "\n",
       "    .dataframe tbody tr th {\n",
       "        vertical-align: top;\n",
       "    }\n",
       "\n",
       "    .dataframe thead th {\n",
       "        text-align: right;\n",
       "    }\n",
       "</style>\n",
       "<table border=\"1\" class=\"dataframe\">\n",
       "  <thead>\n",
       "    <tr style=\"text-align: right;\">\n",
       "      <th></th>\n",
       "      <th>2023-06-30</th>\n",
       "      <th>2022-06-30</th>\n",
       "      <th>2021-06-30</th>\n",
       "      <th>2020-06-30</th>\n",
       "    </tr>\n",
       "  </thead>\n",
       "  <tbody>\n",
       "    <tr>\n",
       "      <th>TaxEffectOfUnusualItems</th>\n",
       "      <td>-2850000.0</td>\n",
       "      <td>43420000.0</td>\n",
       "      <td>180160797.164637</td>\n",
       "      <td>4760000.0</td>\n",
       "    </tr>\n",
       "    <tr>\n",
       "      <th>TaxRateForCalcs</th>\n",
       "      <td>0.19</td>\n",
       "      <td>0.13</td>\n",
       "      <td>0.138266</td>\n",
       "      <td>0.17</td>\n",
       "    </tr>\n",
       "    <tr>\n",
       "      <th>NormalizedEBITDA</th>\n",
       "      <td>105155000000.0</td>\n",
       "      <td>99905000000.0</td>\n",
       "      <td>83831000000.0</td>\n",
       "      <td>68395000000.0</td>\n",
       "    </tr>\n",
       "    <tr>\n",
       "      <th>TotalUnusualItems</th>\n",
       "      <td>-15000000.0</td>\n",
       "      <td>334000000.0</td>\n",
       "      <td>1303000000.0</td>\n",
       "      <td>28000000.0</td>\n",
       "    </tr>\n",
       "    <tr>\n",
       "      <th>TotalUnusualItemsExcludingGoodwill</th>\n",
       "      <td>-15000000.0</td>\n",
       "      <td>334000000.0</td>\n",
       "      <td>1303000000.0</td>\n",
       "      <td>28000000.0</td>\n",
       "    </tr>\n",
       "    <tr>\n",
       "      <th>NetIncomeFromContinuingOperationNetMinorityInterest</th>\n",
       "      <td>72361000000.0</td>\n",
       "      <td>72738000000.0</td>\n",
       "      <td>61271000000.0</td>\n",
       "      <td>44281000000.0</td>\n",
       "    </tr>\n",
       "    <tr>\n",
       "      <th>ReconciledDepreciation</th>\n",
       "      <td>13861000000.0</td>\n",
       "      <td>14460000000.0</td>\n",
       "      <td>11686000000.0</td>\n",
       "      <td>12796000000.0</td>\n",
       "    </tr>\n",
       "    <tr>\n",
       "      <th>ReconciledCostOfRevenue</th>\n",
       "      <td>65863000000.0</td>\n",
       "      <td>62650000000.0</td>\n",
       "      <td>52232000000.0</td>\n",
       "      <td>46078000000.0</td>\n",
       "    </tr>\n",
       "    <tr>\n",
       "      <th>EBITDA</th>\n",
       "      <td>105140000000.0</td>\n",
       "      <td>100239000000.0</td>\n",
       "      <td>85134000000.0</td>\n",
       "      <td>68423000000.0</td>\n",
       "    </tr>\n",
       "    <tr>\n",
       "      <th>EBIT</th>\n",
       "      <td>91279000000.0</td>\n",
       "      <td>85779000000.0</td>\n",
       "      <td>73448000000.0</td>\n",
       "      <td>55627000000.0</td>\n",
       "    </tr>\n",
       "    <tr>\n",
       "      <th>NetInterestIncome</th>\n",
       "      <td>1026000000.0</td>\n",
       "      <td>31000000.0</td>\n",
       "      <td>-215000000.0</td>\n",
       "      <td>89000000.0</td>\n",
       "    </tr>\n",
       "    <tr>\n",
       "      <th>InterestExpense</th>\n",
       "      <td>1968000000.0</td>\n",
       "      <td>2063000000.0</td>\n",
       "      <td>2346000000.0</td>\n",
       "      <td>2591000000.0</td>\n",
       "    </tr>\n",
       "    <tr>\n",
       "      <th>InterestIncome</th>\n",
       "      <td>2994000000.0</td>\n",
       "      <td>2094000000.0</td>\n",
       "      <td>2131000000.0</td>\n",
       "      <td>2680000000.0</td>\n",
       "    </tr>\n",
       "    <tr>\n",
       "      <th>NormalizedIncome</th>\n",
       "      <td>72373150000.0</td>\n",
       "      <td>72447420000.0</td>\n",
       "      <td>60148160797.164635</td>\n",
       "      <td>44257760000.0</td>\n",
       "    </tr>\n",
       "    <tr>\n",
       "      <th>NetIncomeFromContinuingAndDiscontinuedOperation</th>\n",
       "      <td>72361000000.0</td>\n",
       "      <td>72738000000.0</td>\n",
       "      <td>61271000000.0</td>\n",
       "      <td>44281000000.0</td>\n",
       "    </tr>\n",
       "    <tr>\n",
       "      <th>TotalExpenses</th>\n",
       "      <td>123392000000.0</td>\n",
       "      <td>114887000000.0</td>\n",
       "      <td>98172000000.0</td>\n",
       "      <td>90056000000.0</td>\n",
       "    </tr>\n",
       "    <tr>\n",
       "      <th>TotalOperatingIncomeAsReported</th>\n",
       "      <td>88523000000.0</td>\n",
       "      <td>83383000000.0</td>\n",
       "      <td>69916000000.0</td>\n",
       "      <td>52959000000.0</td>\n",
       "    </tr>\n",
       "    <tr>\n",
       "      <th>DilutedAverageShares</th>\n",
       "      <td>7472000000.0</td>\n",
       "      <td>7540000000.0</td>\n",
       "      <td>7608000000.0</td>\n",
       "      <td>7683000000.0</td>\n",
       "    </tr>\n",
       "    <tr>\n",
       "      <th>BasicAverageShares</th>\n",
       "      <td>7446000000.0</td>\n",
       "      <td>7496000000.0</td>\n",
       "      <td>7547000000.0</td>\n",
       "      <td>7610000000.0</td>\n",
       "    </tr>\n",
       "    <tr>\n",
       "      <th>DilutedEPS</th>\n",
       "      <td>9.68</td>\n",
       "      <td>9.65</td>\n",
       "      <td>8.05</td>\n",
       "      <td>5.76</td>\n",
       "    </tr>\n",
       "    <tr>\n",
       "      <th>BasicEPS</th>\n",
       "      <td>9.72</td>\n",
       "      <td>9.7</td>\n",
       "      <td>8.12</td>\n",
       "      <td>5.82</td>\n",
       "    </tr>\n",
       "    <tr>\n",
       "      <th>DilutedNIAvailtoComStockholders</th>\n",
       "      <td>72361000000.0</td>\n",
       "      <td>72738000000.0</td>\n",
       "      <td>61271000000.0</td>\n",
       "      <td>44281000000.0</td>\n",
       "    </tr>\n",
       "    <tr>\n",
       "      <th>NetIncomeCommonStockholders</th>\n",
       "      <td>72361000000.0</td>\n",
       "      <td>72738000000.0</td>\n",
       "      <td>61271000000.0</td>\n",
       "      <td>44281000000.0</td>\n",
       "    </tr>\n",
       "    <tr>\n",
       "      <th>NetIncome</th>\n",
       "      <td>72361000000.0</td>\n",
       "      <td>72738000000.0</td>\n",
       "      <td>61271000000.0</td>\n",
       "      <td>44281000000.0</td>\n",
       "    </tr>\n",
       "    <tr>\n",
       "      <th>NetIncomeIncludingNoncontrollingInterests</th>\n",
       "      <td>72361000000.0</td>\n",
       "      <td>72738000000.0</td>\n",
       "      <td>61271000000.0</td>\n",
       "      <td>44281000000.0</td>\n",
       "    </tr>\n",
       "    <tr>\n",
       "      <th>NetIncomeContinuousOperations</th>\n",
       "      <td>72361000000.0</td>\n",
       "      <td>72738000000.0</td>\n",
       "      <td>61271000000.0</td>\n",
       "      <td>44281000000.0</td>\n",
       "    </tr>\n",
       "    <tr>\n",
       "      <th>TaxProvision</th>\n",
       "      <td>16950000000.0</td>\n",
       "      <td>10978000000.0</td>\n",
       "      <td>9831000000.0</td>\n",
       "      <td>8755000000.0</td>\n",
       "    </tr>\n",
       "    <tr>\n",
       "      <th>PretaxIncome</th>\n",
       "      <td>89311000000.0</td>\n",
       "      <td>83716000000.0</td>\n",
       "      <td>71102000000.0</td>\n",
       "      <td>53036000000.0</td>\n",
       "    </tr>\n",
       "    <tr>\n",
       "      <th>OtherIncomeExpense</th>\n",
       "      <td>-238000000.0</td>\n",
       "      <td>302000000.0</td>\n",
       "      <td>1401000000.0</td>\n",
       "      <td>-12000000.0</td>\n",
       "    </tr>\n",
       "    <tr>\n",
       "      <th>OtherNonOperatingIncomeExpenses</th>\n",
       "      <td>-223000000.0</td>\n",
       "      <td>-32000000.0</td>\n",
       "      <td>98000000.0</td>\n",
       "      <td>-40000000.0</td>\n",
       "    </tr>\n",
       "    <tr>\n",
       "      <th>SpecialIncomeCharges</th>\n",
       "      <td>-30000000.0</td>\n",
       "      <td>-101000000.0</td>\n",
       "      <td>-13000000.0</td>\n",
       "      <td>-133000000.0</td>\n",
       "    </tr>\n",
       "    <tr>\n",
       "      <th>WriteOff</th>\n",
       "      <td>30000000.0</td>\n",
       "      <td>101000000.0</td>\n",
       "      <td>13000000.0</td>\n",
       "      <td>133000000.0</td>\n",
       "    </tr>\n",
       "    <tr>\n",
       "      <th>GainOnSaleOfSecurity</th>\n",
       "      <td>15000000.0</td>\n",
       "      <td>435000000.0</td>\n",
       "      <td>1316000000.0</td>\n",
       "      <td>161000000.0</td>\n",
       "    </tr>\n",
       "    <tr>\n",
       "      <th>NetNonOperatingInterestIncomeExpense</th>\n",
       "      <td>1026000000.0</td>\n",
       "      <td>31000000.0</td>\n",
       "      <td>-215000000.0</td>\n",
       "      <td>89000000.0</td>\n",
       "    </tr>\n",
       "    <tr>\n",
       "      <th>InterestExpenseNonOperating</th>\n",
       "      <td>1968000000.0</td>\n",
       "      <td>2063000000.0</td>\n",
       "      <td>2346000000.0</td>\n",
       "      <td>2591000000.0</td>\n",
       "    </tr>\n",
       "    <tr>\n",
       "      <th>InterestIncomeNonOperating</th>\n",
       "      <td>2994000000.0</td>\n",
       "      <td>2094000000.0</td>\n",
       "      <td>2131000000.0</td>\n",
       "      <td>2680000000.0</td>\n",
       "    </tr>\n",
       "    <tr>\n",
       "      <th>OperatingIncome</th>\n",
       "      <td>88523000000.0</td>\n",
       "      <td>83383000000.0</td>\n",
       "      <td>69916000000.0</td>\n",
       "      <td>52959000000.0</td>\n",
       "    </tr>\n",
       "    <tr>\n",
       "      <th>OperatingExpense</th>\n",
       "      <td>57529000000.0</td>\n",
       "      <td>52237000000.0</td>\n",
       "      <td>45940000000.0</td>\n",
       "      <td>43978000000.0</td>\n",
       "    </tr>\n",
       "    <tr>\n",
       "      <th>ResearchAndDevelopment</th>\n",
       "      <td>27195000000.0</td>\n",
       "      <td>24512000000.0</td>\n",
       "      <td>20716000000.0</td>\n",
       "      <td>19269000000.0</td>\n",
       "    </tr>\n",
       "    <tr>\n",
       "      <th>SellingGeneralAndAdministration</th>\n",
       "      <td>30334000000.0</td>\n",
       "      <td>27725000000.0</td>\n",
       "      <td>25224000000.0</td>\n",
       "      <td>24709000000.0</td>\n",
       "    </tr>\n",
       "    <tr>\n",
       "      <th>SellingAndMarketingExpense</th>\n",
       "      <td>22759000000.0</td>\n",
       "      <td>21825000000.0</td>\n",
       "      <td>20117000000.0</td>\n",
       "      <td>19598000000.0</td>\n",
       "    </tr>\n",
       "    <tr>\n",
       "      <th>GeneralAndAdministrativeExpense</th>\n",
       "      <td>7575000000.0</td>\n",
       "      <td>5900000000.0</td>\n",
       "      <td>5107000000.0</td>\n",
       "      <td>5111000000.0</td>\n",
       "    </tr>\n",
       "    <tr>\n",
       "      <th>OtherGandA</th>\n",
       "      <td>7575000000.0</td>\n",
       "      <td>5900000000.0</td>\n",
       "      <td>5107000000.0</td>\n",
       "      <td>5111000000.0</td>\n",
       "    </tr>\n",
       "    <tr>\n",
       "      <th>GrossProfit</th>\n",
       "      <td>146052000000.0</td>\n",
       "      <td>135620000000.0</td>\n",
       "      <td>115856000000.0</td>\n",
       "      <td>96937000000.0</td>\n",
       "    </tr>\n",
       "    <tr>\n",
       "      <th>CostOfRevenue</th>\n",
       "      <td>65863000000.0</td>\n",
       "      <td>62650000000.0</td>\n",
       "      <td>52232000000.0</td>\n",
       "      <td>46078000000.0</td>\n",
       "    </tr>\n",
       "    <tr>\n",
       "      <th>TotalRevenue</th>\n",
       "      <td>211915000000.0</td>\n",
       "      <td>198270000000.0</td>\n",
       "      <td>168088000000.0</td>\n",
       "      <td>143015000000.0</td>\n",
       "    </tr>\n",
       "    <tr>\n",
       "      <th>OperatingRevenue</th>\n",
       "      <td>211915000000.0</td>\n",
       "      <td>198270000000.0</td>\n",
       "      <td>168088000000.0</td>\n",
       "      <td>143015000000.0</td>\n",
       "    </tr>\n",
       "  </tbody>\n",
       "</table>\n",
       "</div>"
      ],
      "text/plain": [
       "                                                        2023-06-30  \\\n",
       "TaxEffectOfUnusualItems                                 -2850000.0   \n",
       "TaxRateForCalcs                                               0.19   \n",
       "NormalizedEBITDA                                    105155000000.0   \n",
       "TotalUnusualItems                                      -15000000.0   \n",
       "TotalUnusualItemsExcludingGoodwill                     -15000000.0   \n",
       "NetIncomeFromContinuingOperationNetMinorityInte...   72361000000.0   \n",
       "ReconciledDepreciation                               13861000000.0   \n",
       "ReconciledCostOfRevenue                              65863000000.0   \n",
       "EBITDA                                              105140000000.0   \n",
       "EBIT                                                 91279000000.0   \n",
       "NetInterestIncome                                     1026000000.0   \n",
       "InterestExpense                                       1968000000.0   \n",
       "InterestIncome                                        2994000000.0   \n",
       "NormalizedIncome                                     72373150000.0   \n",
       "NetIncomeFromContinuingAndDiscontinuedOperation      72361000000.0   \n",
       "TotalExpenses                                       123392000000.0   \n",
       "TotalOperatingIncomeAsReported                       88523000000.0   \n",
       "DilutedAverageShares                                  7472000000.0   \n",
       "BasicAverageShares                                    7446000000.0   \n",
       "DilutedEPS                                                    9.68   \n",
       "BasicEPS                                                      9.72   \n",
       "DilutedNIAvailtoComStockholders                      72361000000.0   \n",
       "NetIncomeCommonStockholders                          72361000000.0   \n",
       "NetIncome                                            72361000000.0   \n",
       "NetIncomeIncludingNoncontrollingInterests            72361000000.0   \n",
       "NetIncomeContinuousOperations                        72361000000.0   \n",
       "TaxProvision                                         16950000000.0   \n",
       "PretaxIncome                                         89311000000.0   \n",
       "OtherIncomeExpense                                    -238000000.0   \n",
       "OtherNonOperatingIncomeExpenses                       -223000000.0   \n",
       "SpecialIncomeCharges                                   -30000000.0   \n",
       "WriteOff                                                30000000.0   \n",
       "GainOnSaleOfSecurity                                    15000000.0   \n",
       "NetNonOperatingInterestIncomeExpense                  1026000000.0   \n",
       "InterestExpenseNonOperating                           1968000000.0   \n",
       "InterestIncomeNonOperating                            2994000000.0   \n",
       "OperatingIncome                                      88523000000.0   \n",
       "OperatingExpense                                     57529000000.0   \n",
       "ResearchAndDevelopment                               27195000000.0   \n",
       "SellingGeneralAndAdministration                      30334000000.0   \n",
       "SellingAndMarketingExpense                           22759000000.0   \n",
       "GeneralAndAdministrativeExpense                       7575000000.0   \n",
       "OtherGandA                                            7575000000.0   \n",
       "GrossProfit                                         146052000000.0   \n",
       "CostOfRevenue                                        65863000000.0   \n",
       "TotalRevenue                                        211915000000.0   \n",
       "OperatingRevenue                                    211915000000.0   \n",
       "\n",
       "                                                        2022-06-30  \\\n",
       "TaxEffectOfUnusualItems                                 43420000.0   \n",
       "TaxRateForCalcs                                               0.13   \n",
       "NormalizedEBITDA                                     99905000000.0   \n",
       "TotalUnusualItems                                      334000000.0   \n",
       "TotalUnusualItemsExcludingGoodwill                     334000000.0   \n",
       "NetIncomeFromContinuingOperationNetMinorityInte...   72738000000.0   \n",
       "ReconciledDepreciation                               14460000000.0   \n",
       "ReconciledCostOfRevenue                              62650000000.0   \n",
       "EBITDA                                              100239000000.0   \n",
       "EBIT                                                 85779000000.0   \n",
       "NetInterestIncome                                       31000000.0   \n",
       "InterestExpense                                       2063000000.0   \n",
       "InterestIncome                                        2094000000.0   \n",
       "NormalizedIncome                                     72447420000.0   \n",
       "NetIncomeFromContinuingAndDiscontinuedOperation      72738000000.0   \n",
       "TotalExpenses                                       114887000000.0   \n",
       "TotalOperatingIncomeAsReported                       83383000000.0   \n",
       "DilutedAverageShares                                  7540000000.0   \n",
       "BasicAverageShares                                    7496000000.0   \n",
       "DilutedEPS                                                    9.65   \n",
       "BasicEPS                                                       9.7   \n",
       "DilutedNIAvailtoComStockholders                      72738000000.0   \n",
       "NetIncomeCommonStockholders                          72738000000.0   \n",
       "NetIncome                                            72738000000.0   \n",
       "NetIncomeIncludingNoncontrollingInterests            72738000000.0   \n",
       "NetIncomeContinuousOperations                        72738000000.0   \n",
       "TaxProvision                                         10978000000.0   \n",
       "PretaxIncome                                         83716000000.0   \n",
       "OtherIncomeExpense                                     302000000.0   \n",
       "OtherNonOperatingIncomeExpenses                        -32000000.0   \n",
       "SpecialIncomeCharges                                  -101000000.0   \n",
       "WriteOff                                               101000000.0   \n",
       "GainOnSaleOfSecurity                                   435000000.0   \n",
       "NetNonOperatingInterestIncomeExpense                    31000000.0   \n",
       "InterestExpenseNonOperating                           2063000000.0   \n",
       "InterestIncomeNonOperating                            2094000000.0   \n",
       "OperatingIncome                                      83383000000.0   \n",
       "OperatingExpense                                     52237000000.0   \n",
       "ResearchAndDevelopment                               24512000000.0   \n",
       "SellingGeneralAndAdministration                      27725000000.0   \n",
       "SellingAndMarketingExpense                           21825000000.0   \n",
       "GeneralAndAdministrativeExpense                       5900000000.0   \n",
       "OtherGandA                                            5900000000.0   \n",
       "GrossProfit                                         135620000000.0   \n",
       "CostOfRevenue                                        62650000000.0   \n",
       "TotalRevenue                                        198270000000.0   \n",
       "OperatingRevenue                                    198270000000.0   \n",
       "\n",
       "                                                            2021-06-30  \\\n",
       "TaxEffectOfUnusualItems                               180160797.164637   \n",
       "TaxRateForCalcs                                               0.138266   \n",
       "NormalizedEBITDA                                         83831000000.0   \n",
       "TotalUnusualItems                                         1303000000.0   \n",
       "TotalUnusualItemsExcludingGoodwill                        1303000000.0   \n",
       "NetIncomeFromContinuingOperationNetMinorityInte...       61271000000.0   \n",
       "ReconciledDepreciation                                   11686000000.0   \n",
       "ReconciledCostOfRevenue                                  52232000000.0   \n",
       "EBITDA                                                   85134000000.0   \n",
       "EBIT                                                     73448000000.0   \n",
       "NetInterestIncome                                         -215000000.0   \n",
       "InterestExpense                                           2346000000.0   \n",
       "InterestIncome                                            2131000000.0   \n",
       "NormalizedIncome                                    60148160797.164635   \n",
       "NetIncomeFromContinuingAndDiscontinuedOperation          61271000000.0   \n",
       "TotalExpenses                                            98172000000.0   \n",
       "TotalOperatingIncomeAsReported                           69916000000.0   \n",
       "DilutedAverageShares                                      7608000000.0   \n",
       "BasicAverageShares                                        7547000000.0   \n",
       "DilutedEPS                                                        8.05   \n",
       "BasicEPS                                                          8.12   \n",
       "DilutedNIAvailtoComStockholders                          61271000000.0   \n",
       "NetIncomeCommonStockholders                              61271000000.0   \n",
       "NetIncome                                                61271000000.0   \n",
       "NetIncomeIncludingNoncontrollingInterests                61271000000.0   \n",
       "NetIncomeContinuousOperations                            61271000000.0   \n",
       "TaxProvision                                              9831000000.0   \n",
       "PretaxIncome                                             71102000000.0   \n",
       "OtherIncomeExpense                                        1401000000.0   \n",
       "OtherNonOperatingIncomeExpenses                             98000000.0   \n",
       "SpecialIncomeCharges                                       -13000000.0   \n",
       "WriteOff                                                    13000000.0   \n",
       "GainOnSaleOfSecurity                                      1316000000.0   \n",
       "NetNonOperatingInterestIncomeExpense                      -215000000.0   \n",
       "InterestExpenseNonOperating                               2346000000.0   \n",
       "InterestIncomeNonOperating                                2131000000.0   \n",
       "OperatingIncome                                          69916000000.0   \n",
       "OperatingExpense                                         45940000000.0   \n",
       "ResearchAndDevelopment                                   20716000000.0   \n",
       "SellingGeneralAndAdministration                          25224000000.0   \n",
       "SellingAndMarketingExpense                               20117000000.0   \n",
       "GeneralAndAdministrativeExpense                           5107000000.0   \n",
       "OtherGandA                                                5107000000.0   \n",
       "GrossProfit                                             115856000000.0   \n",
       "CostOfRevenue                                            52232000000.0   \n",
       "TotalRevenue                                            168088000000.0   \n",
       "OperatingRevenue                                        168088000000.0   \n",
       "\n",
       "                                                        2020-06-30  \n",
       "TaxEffectOfUnusualItems                                  4760000.0  \n",
       "TaxRateForCalcs                                               0.17  \n",
       "NormalizedEBITDA                                     68395000000.0  \n",
       "TotalUnusualItems                                       28000000.0  \n",
       "TotalUnusualItemsExcludingGoodwill                      28000000.0  \n",
       "NetIncomeFromContinuingOperationNetMinorityInte...   44281000000.0  \n",
       "ReconciledDepreciation                               12796000000.0  \n",
       "ReconciledCostOfRevenue                              46078000000.0  \n",
       "EBITDA                                               68423000000.0  \n",
       "EBIT                                                 55627000000.0  \n",
       "NetInterestIncome                                       89000000.0  \n",
       "InterestExpense                                       2591000000.0  \n",
       "InterestIncome                                        2680000000.0  \n",
       "NormalizedIncome                                     44257760000.0  \n",
       "NetIncomeFromContinuingAndDiscontinuedOperation      44281000000.0  \n",
       "TotalExpenses                                        90056000000.0  \n",
       "TotalOperatingIncomeAsReported                       52959000000.0  \n",
       "DilutedAverageShares                                  7683000000.0  \n",
       "BasicAverageShares                                    7610000000.0  \n",
       "DilutedEPS                                                    5.76  \n",
       "BasicEPS                                                      5.82  \n",
       "DilutedNIAvailtoComStockholders                      44281000000.0  \n",
       "NetIncomeCommonStockholders                          44281000000.0  \n",
       "NetIncome                                            44281000000.0  \n",
       "NetIncomeIncludingNoncontrollingInterests            44281000000.0  \n",
       "NetIncomeContinuousOperations                        44281000000.0  \n",
       "TaxProvision                                          8755000000.0  \n",
       "PretaxIncome                                         53036000000.0  \n",
       "OtherIncomeExpense                                     -12000000.0  \n",
       "OtherNonOperatingIncomeExpenses                        -40000000.0  \n",
       "SpecialIncomeCharges                                  -133000000.0  \n",
       "WriteOff                                               133000000.0  \n",
       "GainOnSaleOfSecurity                                   161000000.0  \n",
       "NetNonOperatingInterestIncomeExpense                    89000000.0  \n",
       "InterestExpenseNonOperating                           2591000000.0  \n",
       "InterestIncomeNonOperating                            2680000000.0  \n",
       "OperatingIncome                                      52959000000.0  \n",
       "OperatingExpense                                     43978000000.0  \n",
       "ResearchAndDevelopment                               19269000000.0  \n",
       "SellingGeneralAndAdministration                      24709000000.0  \n",
       "SellingAndMarketingExpense                           19598000000.0  \n",
       "GeneralAndAdministrativeExpense                       5111000000.0  \n",
       "OtherGandA                                            5111000000.0  \n",
       "GrossProfit                                          96937000000.0  \n",
       "CostOfRevenue                                        46078000000.0  \n",
       "TotalRevenue                                        143015000000.0  \n",
       "OperatingRevenue                                    143015000000.0  "
      ]
     },
     "execution_count": 4,
     "metadata": {},
     "output_type": "execute_result"
    }
   ],
   "source": [
    "import yfinance as yf\n",
    "import plotly.express as px\n",
    "\n",
    "stock_option = 'MSFT'\n",
    "Company_stock = yf.Ticker(stock_option)\n",
    "\n",
    "# Finanzdaten abrufen\n",
    "financials = Company_stock.get_financials()\n",
    "revenue = financials.loc['CostOfRevenue':'TotalRevenue'].T\n",
    "financials\n",
    "\n"
   ]
  },
  {
   "cell_type": "code",
   "execution_count": null,
   "metadata": {},
   "outputs": [],
   "source": []
  },
  {
   "cell_type": "code",
   "execution_count": 5,
   "metadata": {},
   "outputs": [
    {
     "name": "stderr",
     "output_type": "stream",
     "text": [
      "/Users/riccardo/Desktop/Repositorys_Github/Streamlit-Regression-App/venv/lib/python3.9/site-packages/plotly/express/_core.py:2065: FutureWarning: When grouping with a length-1 list-like, you will need to pass a length-1 tuple to get_group in a future version of pandas. Pass `(name,)` instead of `name` to silence this warning.\n",
      "  sf: grouped.get_group(s if len(s) > 1 else s[0])\n"
     ]
    },
    {
     "data": {
      "application/vnd.plotly.v1+json": {
       "config": {
        "plotlyServerURL": "https://plot.ly"
       },
       "data": [
        {
         "alignmentgroup": "True",
         "hovertemplate": "Category=OperatingIncome<br>Date=%{x}<br>Amount (in 10,000,000)=%{y}<extra></extra>",
         "legendgroup": "OperatingIncome",
         "marker": {
          "color": "#636efa",
          "pattern": {
           "shape": ""
          }
         },
         "name": "OperatingIncome",
         "offsetgroup": "OperatingIncome",
         "orientation": "v",
         "showlegend": true,
         "textposition": "auto",
         "texttemplate": "%{y}",
         "type": "bar",
         "x": [
          2023,
          2022,
          2021,
          2020
         ],
         "xaxis": "x",
         "y": [
          8852.3,
          8338.3,
          6991.6,
          5295.9
         ],
         "yaxis": "y"
        },
        {
         "alignmentgroup": "True",
         "hovertemplate": "Category=OperatingExpense<br>Date=%{x}<br>Amount (in 10,000,000)=%{y}<extra></extra>",
         "legendgroup": "OperatingExpense",
         "marker": {
          "color": "#EF553B",
          "pattern": {
           "shape": ""
          }
         },
         "name": "OperatingExpense",
         "offsetgroup": "OperatingExpense",
         "orientation": "v",
         "showlegend": true,
         "textposition": "auto",
         "texttemplate": "%{y}",
         "type": "bar",
         "x": [
          2023,
          2022,
          2021,
          2020
         ],
         "xaxis": "x",
         "y": [
          5752.9,
          5223.7,
          4594,
          4397.8
         ],
         "yaxis": "y"
        }
       ],
       "layout": {
        "barmode": "group",
        "legend": {
         "title": {
          "text": "Category"
         },
         "tracegroupgap": 0
        },
        "template": {
         "data": {
          "bar": [
           {
            "error_x": {
             "color": "#2a3f5f"
            },
            "error_y": {
             "color": "#2a3f5f"
            },
            "marker": {
             "line": {
              "color": "#E5ECF6",
              "width": 0.5
             },
             "pattern": {
              "fillmode": "overlay",
              "size": 10,
              "solidity": 0.2
             }
            },
            "type": "bar"
           }
          ],
          "barpolar": [
           {
            "marker": {
             "line": {
              "color": "#E5ECF6",
              "width": 0.5
             },
             "pattern": {
              "fillmode": "overlay",
              "size": 10,
              "solidity": 0.2
             }
            },
            "type": "barpolar"
           }
          ],
          "carpet": [
           {
            "aaxis": {
             "endlinecolor": "#2a3f5f",
             "gridcolor": "white",
             "linecolor": "white",
             "minorgridcolor": "white",
             "startlinecolor": "#2a3f5f"
            },
            "baxis": {
             "endlinecolor": "#2a3f5f",
             "gridcolor": "white",
             "linecolor": "white",
             "minorgridcolor": "white",
             "startlinecolor": "#2a3f5f"
            },
            "type": "carpet"
           }
          ],
          "choropleth": [
           {
            "colorbar": {
             "outlinewidth": 0,
             "ticks": ""
            },
            "type": "choropleth"
           }
          ],
          "contour": [
           {
            "colorbar": {
             "outlinewidth": 0,
             "ticks": ""
            },
            "colorscale": [
             [
              0,
              "#0d0887"
             ],
             [
              0.1111111111111111,
              "#46039f"
             ],
             [
              0.2222222222222222,
              "#7201a8"
             ],
             [
              0.3333333333333333,
              "#9c179e"
             ],
             [
              0.4444444444444444,
              "#bd3786"
             ],
             [
              0.5555555555555556,
              "#d8576b"
             ],
             [
              0.6666666666666666,
              "#ed7953"
             ],
             [
              0.7777777777777778,
              "#fb9f3a"
             ],
             [
              0.8888888888888888,
              "#fdca26"
             ],
             [
              1,
              "#f0f921"
             ]
            ],
            "type": "contour"
           }
          ],
          "contourcarpet": [
           {
            "colorbar": {
             "outlinewidth": 0,
             "ticks": ""
            },
            "type": "contourcarpet"
           }
          ],
          "heatmap": [
           {
            "colorbar": {
             "outlinewidth": 0,
             "ticks": ""
            },
            "colorscale": [
             [
              0,
              "#0d0887"
             ],
             [
              0.1111111111111111,
              "#46039f"
             ],
             [
              0.2222222222222222,
              "#7201a8"
             ],
             [
              0.3333333333333333,
              "#9c179e"
             ],
             [
              0.4444444444444444,
              "#bd3786"
             ],
             [
              0.5555555555555556,
              "#d8576b"
             ],
             [
              0.6666666666666666,
              "#ed7953"
             ],
             [
              0.7777777777777778,
              "#fb9f3a"
             ],
             [
              0.8888888888888888,
              "#fdca26"
             ],
             [
              1,
              "#f0f921"
             ]
            ],
            "type": "heatmap"
           }
          ],
          "heatmapgl": [
           {
            "colorbar": {
             "outlinewidth": 0,
             "ticks": ""
            },
            "colorscale": [
             [
              0,
              "#0d0887"
             ],
             [
              0.1111111111111111,
              "#46039f"
             ],
             [
              0.2222222222222222,
              "#7201a8"
             ],
             [
              0.3333333333333333,
              "#9c179e"
             ],
             [
              0.4444444444444444,
              "#bd3786"
             ],
             [
              0.5555555555555556,
              "#d8576b"
             ],
             [
              0.6666666666666666,
              "#ed7953"
             ],
             [
              0.7777777777777778,
              "#fb9f3a"
             ],
             [
              0.8888888888888888,
              "#fdca26"
             ],
             [
              1,
              "#f0f921"
             ]
            ],
            "type": "heatmapgl"
           }
          ],
          "histogram": [
           {
            "marker": {
             "pattern": {
              "fillmode": "overlay",
              "size": 10,
              "solidity": 0.2
             }
            },
            "type": "histogram"
           }
          ],
          "histogram2d": [
           {
            "colorbar": {
             "outlinewidth": 0,
             "ticks": ""
            },
            "colorscale": [
             [
              0,
              "#0d0887"
             ],
             [
              0.1111111111111111,
              "#46039f"
             ],
             [
              0.2222222222222222,
              "#7201a8"
             ],
             [
              0.3333333333333333,
              "#9c179e"
             ],
             [
              0.4444444444444444,
              "#bd3786"
             ],
             [
              0.5555555555555556,
              "#d8576b"
             ],
             [
              0.6666666666666666,
              "#ed7953"
             ],
             [
              0.7777777777777778,
              "#fb9f3a"
             ],
             [
              0.8888888888888888,
              "#fdca26"
             ],
             [
              1,
              "#f0f921"
             ]
            ],
            "type": "histogram2d"
           }
          ],
          "histogram2dcontour": [
           {
            "colorbar": {
             "outlinewidth": 0,
             "ticks": ""
            },
            "colorscale": [
             [
              0,
              "#0d0887"
             ],
             [
              0.1111111111111111,
              "#46039f"
             ],
             [
              0.2222222222222222,
              "#7201a8"
             ],
             [
              0.3333333333333333,
              "#9c179e"
             ],
             [
              0.4444444444444444,
              "#bd3786"
             ],
             [
              0.5555555555555556,
              "#d8576b"
             ],
             [
              0.6666666666666666,
              "#ed7953"
             ],
             [
              0.7777777777777778,
              "#fb9f3a"
             ],
             [
              0.8888888888888888,
              "#fdca26"
             ],
             [
              1,
              "#f0f921"
             ]
            ],
            "type": "histogram2dcontour"
           }
          ],
          "mesh3d": [
           {
            "colorbar": {
             "outlinewidth": 0,
             "ticks": ""
            },
            "type": "mesh3d"
           }
          ],
          "parcoords": [
           {
            "line": {
             "colorbar": {
              "outlinewidth": 0,
              "ticks": ""
             }
            },
            "type": "parcoords"
           }
          ],
          "pie": [
           {
            "automargin": true,
            "type": "pie"
           }
          ],
          "scatter": [
           {
            "fillpattern": {
             "fillmode": "overlay",
             "size": 10,
             "solidity": 0.2
            },
            "type": "scatter"
           }
          ],
          "scatter3d": [
           {
            "line": {
             "colorbar": {
              "outlinewidth": 0,
              "ticks": ""
             }
            },
            "marker": {
             "colorbar": {
              "outlinewidth": 0,
              "ticks": ""
             }
            },
            "type": "scatter3d"
           }
          ],
          "scattercarpet": [
           {
            "marker": {
             "colorbar": {
              "outlinewidth": 0,
              "ticks": ""
             }
            },
            "type": "scattercarpet"
           }
          ],
          "scattergeo": [
           {
            "marker": {
             "colorbar": {
              "outlinewidth": 0,
              "ticks": ""
             }
            },
            "type": "scattergeo"
           }
          ],
          "scattergl": [
           {
            "marker": {
             "colorbar": {
              "outlinewidth": 0,
              "ticks": ""
             }
            },
            "type": "scattergl"
           }
          ],
          "scattermapbox": [
           {
            "marker": {
             "colorbar": {
              "outlinewidth": 0,
              "ticks": ""
             }
            },
            "type": "scattermapbox"
           }
          ],
          "scatterpolar": [
           {
            "marker": {
             "colorbar": {
              "outlinewidth": 0,
              "ticks": ""
             }
            },
            "type": "scatterpolar"
           }
          ],
          "scatterpolargl": [
           {
            "marker": {
             "colorbar": {
              "outlinewidth": 0,
              "ticks": ""
             }
            },
            "type": "scatterpolargl"
           }
          ],
          "scatterternary": [
           {
            "marker": {
             "colorbar": {
              "outlinewidth": 0,
              "ticks": ""
             }
            },
            "type": "scatterternary"
           }
          ],
          "surface": [
           {
            "colorbar": {
             "outlinewidth": 0,
             "ticks": ""
            },
            "colorscale": [
             [
              0,
              "#0d0887"
             ],
             [
              0.1111111111111111,
              "#46039f"
             ],
             [
              0.2222222222222222,
              "#7201a8"
             ],
             [
              0.3333333333333333,
              "#9c179e"
             ],
             [
              0.4444444444444444,
              "#bd3786"
             ],
             [
              0.5555555555555556,
              "#d8576b"
             ],
             [
              0.6666666666666666,
              "#ed7953"
             ],
             [
              0.7777777777777778,
              "#fb9f3a"
             ],
             [
              0.8888888888888888,
              "#fdca26"
             ],
             [
              1,
              "#f0f921"
             ]
            ],
            "type": "surface"
           }
          ],
          "table": [
           {
            "cells": {
             "fill": {
              "color": "#EBF0F8"
             },
             "line": {
              "color": "white"
             }
            },
            "header": {
             "fill": {
              "color": "#C8D4E3"
             },
             "line": {
              "color": "white"
             }
            },
            "type": "table"
           }
          ]
         },
         "layout": {
          "annotationdefaults": {
           "arrowcolor": "#2a3f5f",
           "arrowhead": 0,
           "arrowwidth": 1
          },
          "autotypenumbers": "strict",
          "coloraxis": {
           "colorbar": {
            "outlinewidth": 0,
            "ticks": ""
           }
          },
          "colorscale": {
           "diverging": [
            [
             0,
             "#8e0152"
            ],
            [
             0.1,
             "#c51b7d"
            ],
            [
             0.2,
             "#de77ae"
            ],
            [
             0.3,
             "#f1b6da"
            ],
            [
             0.4,
             "#fde0ef"
            ],
            [
             0.5,
             "#f7f7f7"
            ],
            [
             0.6,
             "#e6f5d0"
            ],
            [
             0.7,
             "#b8e186"
            ],
            [
             0.8,
             "#7fbc41"
            ],
            [
             0.9,
             "#4d9221"
            ],
            [
             1,
             "#276419"
            ]
           ],
           "sequential": [
            [
             0,
             "#0d0887"
            ],
            [
             0.1111111111111111,
             "#46039f"
            ],
            [
             0.2222222222222222,
             "#7201a8"
            ],
            [
             0.3333333333333333,
             "#9c179e"
            ],
            [
             0.4444444444444444,
             "#bd3786"
            ],
            [
             0.5555555555555556,
             "#d8576b"
            ],
            [
             0.6666666666666666,
             "#ed7953"
            ],
            [
             0.7777777777777778,
             "#fb9f3a"
            ],
            [
             0.8888888888888888,
             "#fdca26"
            ],
            [
             1,
             "#f0f921"
            ]
           ],
           "sequentialminus": [
            [
             0,
             "#0d0887"
            ],
            [
             0.1111111111111111,
             "#46039f"
            ],
            [
             0.2222222222222222,
             "#7201a8"
            ],
            [
             0.3333333333333333,
             "#9c179e"
            ],
            [
             0.4444444444444444,
             "#bd3786"
            ],
            [
             0.5555555555555556,
             "#d8576b"
            ],
            [
             0.6666666666666666,
             "#ed7953"
            ],
            [
             0.7777777777777778,
             "#fb9f3a"
            ],
            [
             0.8888888888888888,
             "#fdca26"
            ],
            [
             1,
             "#f0f921"
            ]
           ]
          },
          "colorway": [
           "#636efa",
           "#EF553B",
           "#00cc96",
           "#ab63fa",
           "#FFA15A",
           "#19d3f3",
           "#FF6692",
           "#B6E880",
           "#FF97FF",
           "#FECB52"
          ],
          "font": {
           "color": "#2a3f5f"
          },
          "geo": {
           "bgcolor": "white",
           "lakecolor": "white",
           "landcolor": "#E5ECF6",
           "showlakes": true,
           "showland": true,
           "subunitcolor": "white"
          },
          "hoverlabel": {
           "align": "left"
          },
          "hovermode": "closest",
          "mapbox": {
           "style": "light"
          },
          "paper_bgcolor": "white",
          "plot_bgcolor": "#E5ECF6",
          "polar": {
           "angularaxis": {
            "gridcolor": "white",
            "linecolor": "white",
            "ticks": ""
           },
           "bgcolor": "#E5ECF6",
           "radialaxis": {
            "gridcolor": "white",
            "linecolor": "white",
            "ticks": ""
           }
          },
          "scene": {
           "xaxis": {
            "backgroundcolor": "#E5ECF6",
            "gridcolor": "white",
            "gridwidth": 2,
            "linecolor": "white",
            "showbackground": true,
            "ticks": "",
            "zerolinecolor": "white"
           },
           "yaxis": {
            "backgroundcolor": "#E5ECF6",
            "gridcolor": "white",
            "gridwidth": 2,
            "linecolor": "white",
            "showbackground": true,
            "ticks": "",
            "zerolinecolor": "white"
           },
           "zaxis": {
            "backgroundcolor": "#E5ECF6",
            "gridcolor": "white",
            "gridwidth": 2,
            "linecolor": "white",
            "showbackground": true,
            "ticks": "",
            "zerolinecolor": "white"
           }
          },
          "shapedefaults": {
           "line": {
            "color": "#2a3f5f"
           }
          },
          "ternary": {
           "aaxis": {
            "gridcolor": "white",
            "linecolor": "white",
            "ticks": ""
           },
           "baxis": {
            "gridcolor": "white",
            "linecolor": "white",
            "ticks": ""
           },
           "bgcolor": "#E5ECF6",
           "caxis": {
            "gridcolor": "white",
            "linecolor": "white",
            "ticks": ""
           }
          },
          "title": {
           "x": 0.05
          },
          "xaxis": {
           "automargin": true,
           "gridcolor": "white",
           "linecolor": "white",
           "ticks": "",
           "title": {
            "standoff": 15
           },
           "zerolinecolor": "white",
           "zerolinewidth": 2
          },
          "yaxis": {
           "automargin": true,
           "gridcolor": "white",
           "linecolor": "white",
           "ticks": "",
           "title": {
            "standoff": 15
           },
           "zerolinecolor": "white",
           "zerolinewidth": 2
          }
         }
        },
        "title": {
         "text": "Operating Income and Expense Over Time"
        },
        "xaxis": {
         "anchor": "y",
         "domain": [
          0,
          1
         ],
         "title": {
          "text": "Date"
         }
        },
        "yaxis": {
         "anchor": "x",
         "domain": [
          0,
          1
         ],
         "title": {
          "text": "Amount (in 10,000,000)"
         }
        }
       }
      }
     },
     "metadata": {},
     "output_type": "display_data"
    }
   ],
   "source": [
    "import yfinance as yf\n",
    "import plotly.express as px\n",
    "import pandas as pd\n",
    "\n",
    "stock_option = 'MSFT'\n",
    "Company_stock = yf.Ticker(stock_option)\n",
    "\n",
    "# Finanzdaten abrufen\n",
    "financials = Company_stock.get_financials()\n",
    "revenue = financials.loc['OperatingIncome':'OperatingExpense'].T\n",
    "revenue.index = pd.to_datetime(revenue.index).year\n",
    "revenue = revenue.reset_index()\n",
    "revenue = revenue.rename(columns={'index': 'Date'})  # Rename the 'index' column to 'Date'\n",
    "revenue['OperatingIncome'] = revenue['OperatingIncome'].astype(float)\n",
    "revenue['OperatingExpense'] = revenue['OperatingExpense'].astype(float)\n",
    "\n",
    "# Scale 'OperatingIncome' and 'OperatingExpense' by dividing by 10,000,000\n",
    "revenue['OperatingIncome'] = revenue['OperatingIncome'] / 10000000\n",
    "revenue['OperatingExpense'] = revenue['OperatingExpense'] / 10000000\n",
    "\n",
    "# Create a bar chart using plotly.express\n",
    "fig = px.bar(revenue, x='Date', y=['OperatingIncome', 'OperatingExpense'], barmode='group',\n",
    "             labels={'value': 'Amount (in 10,000,000)', 'variable': 'Category'},\n",
    "             title='Operating Income and Expense Over Time',text_auto=True)\n",
    "fig.show()\n"
   ]
  },
  {
   "cell_type": "code",
   "execution_count": null,
   "metadata": {},
   "outputs": [],
   "source": []
  },
  {
   "cell_type": "code",
   "execution_count": null,
   "metadata": {},
   "outputs": [],
   "source": []
  },
  {
   "cell_type": "code",
   "execution_count": 6,
   "metadata": {},
   "outputs": [
    {
     "data": {
      "text/plain": [
       "2023-06-30    27195000000.0\n",
       "2022-06-30    24512000000.0\n",
       "2021-06-30    20716000000.0\n",
       "2020-06-30    19269000000.0\n",
       "Name: ResearchAndDevelopment, dtype: object"
      ]
     },
     "execution_count": 6,
     "metadata": {},
     "output_type": "execute_result"
    }
   ],
   "source": [
    "import yfinance as yf\n",
    "import plotly.express as px\n",
    "\n",
    "stock_option = 'MSFT'\n",
    "Company_stock = yf.Ticker(stock_option)\n",
    "\n",
    "# Finanzdaten abrufen\n",
    "financials = Company_stock.get_financials()\n",
    "ResearchAndDevelopment = financials.loc['ResearchAndDevelopment'].T\n",
    "ResearchAndDevelopment\n",
    "\n"
   ]
  },
  {
   "cell_type": "code",
   "execution_count": 7,
   "metadata": {},
   "outputs": [
    {
     "name": "stdout",
     "output_type": "stream",
     "text": [
      "<class 'pandas.core.frame.DataFrame'>\n",
      "RangeIndex: 4 entries, 0 to 3\n",
      "Data columns (total 2 columns):\n",
      " #   Column  Non-Null Count  Dtype\n",
      "---  ------  --------------  -----\n",
      " 0   Date    4 non-null      int64\n",
      " 1   EBITDA  4 non-null      int64\n",
      "dtypes: int64(2)\n",
      "memory usage: 192.0 bytes\n"
     ]
    },
    {
     "data": {
      "application/vnd.plotly.v1+json": {
       "config": {
        "plotlyServerURL": "https://plot.ly"
       },
       "data": [
        {
         "alignmentgroup": "True",
         "hovertemplate": "Date=%{x}<br>EBITDA (in 10,000,000)=%{text}<extra></extra>",
         "legendgroup": "",
         "marker": {
          "color": "#636efa",
          "pattern": {
           "shape": ""
          }
         },
         "name": "",
         "offsetgroup": "",
         "orientation": "v",
         "showlegend": false,
         "text": [
          105140000000,
          100239000000,
          85134000000,
          68423000000
         ],
         "textposition": "auto",
         "texttemplate": "%{y}",
         "type": "bar",
         "x": [
          2023,
          2022,
          2021,
          2020
         ],
         "xaxis": "x",
         "y": [
          105140000000,
          100239000000,
          85134000000,
          68423000000
         ],
         "yaxis": "y"
        }
       ],
       "layout": {
        "barmode": "group",
        "legend": {
         "tracegroupgap": 0
        },
        "template": {
         "data": {
          "bar": [
           {
            "error_x": {
             "color": "#2a3f5f"
            },
            "error_y": {
             "color": "#2a3f5f"
            },
            "marker": {
             "line": {
              "color": "#E5ECF6",
              "width": 0.5
             },
             "pattern": {
              "fillmode": "overlay",
              "size": 10,
              "solidity": 0.2
             }
            },
            "type": "bar"
           }
          ],
          "barpolar": [
           {
            "marker": {
             "line": {
              "color": "#E5ECF6",
              "width": 0.5
             },
             "pattern": {
              "fillmode": "overlay",
              "size": 10,
              "solidity": 0.2
             }
            },
            "type": "barpolar"
           }
          ],
          "carpet": [
           {
            "aaxis": {
             "endlinecolor": "#2a3f5f",
             "gridcolor": "white",
             "linecolor": "white",
             "minorgridcolor": "white",
             "startlinecolor": "#2a3f5f"
            },
            "baxis": {
             "endlinecolor": "#2a3f5f",
             "gridcolor": "white",
             "linecolor": "white",
             "minorgridcolor": "white",
             "startlinecolor": "#2a3f5f"
            },
            "type": "carpet"
           }
          ],
          "choropleth": [
           {
            "colorbar": {
             "outlinewidth": 0,
             "ticks": ""
            },
            "type": "choropleth"
           }
          ],
          "contour": [
           {
            "colorbar": {
             "outlinewidth": 0,
             "ticks": ""
            },
            "colorscale": [
             [
              0,
              "#0d0887"
             ],
             [
              0.1111111111111111,
              "#46039f"
             ],
             [
              0.2222222222222222,
              "#7201a8"
             ],
             [
              0.3333333333333333,
              "#9c179e"
             ],
             [
              0.4444444444444444,
              "#bd3786"
             ],
             [
              0.5555555555555556,
              "#d8576b"
             ],
             [
              0.6666666666666666,
              "#ed7953"
             ],
             [
              0.7777777777777778,
              "#fb9f3a"
             ],
             [
              0.8888888888888888,
              "#fdca26"
             ],
             [
              1,
              "#f0f921"
             ]
            ],
            "type": "contour"
           }
          ],
          "contourcarpet": [
           {
            "colorbar": {
             "outlinewidth": 0,
             "ticks": ""
            },
            "type": "contourcarpet"
           }
          ],
          "heatmap": [
           {
            "colorbar": {
             "outlinewidth": 0,
             "ticks": ""
            },
            "colorscale": [
             [
              0,
              "#0d0887"
             ],
             [
              0.1111111111111111,
              "#46039f"
             ],
             [
              0.2222222222222222,
              "#7201a8"
             ],
             [
              0.3333333333333333,
              "#9c179e"
             ],
             [
              0.4444444444444444,
              "#bd3786"
             ],
             [
              0.5555555555555556,
              "#d8576b"
             ],
             [
              0.6666666666666666,
              "#ed7953"
             ],
             [
              0.7777777777777778,
              "#fb9f3a"
             ],
             [
              0.8888888888888888,
              "#fdca26"
             ],
             [
              1,
              "#f0f921"
             ]
            ],
            "type": "heatmap"
           }
          ],
          "heatmapgl": [
           {
            "colorbar": {
             "outlinewidth": 0,
             "ticks": ""
            },
            "colorscale": [
             [
              0,
              "#0d0887"
             ],
             [
              0.1111111111111111,
              "#46039f"
             ],
             [
              0.2222222222222222,
              "#7201a8"
             ],
             [
              0.3333333333333333,
              "#9c179e"
             ],
             [
              0.4444444444444444,
              "#bd3786"
             ],
             [
              0.5555555555555556,
              "#d8576b"
             ],
             [
              0.6666666666666666,
              "#ed7953"
             ],
             [
              0.7777777777777778,
              "#fb9f3a"
             ],
             [
              0.8888888888888888,
              "#fdca26"
             ],
             [
              1,
              "#f0f921"
             ]
            ],
            "type": "heatmapgl"
           }
          ],
          "histogram": [
           {
            "marker": {
             "pattern": {
              "fillmode": "overlay",
              "size": 10,
              "solidity": 0.2
             }
            },
            "type": "histogram"
           }
          ],
          "histogram2d": [
           {
            "colorbar": {
             "outlinewidth": 0,
             "ticks": ""
            },
            "colorscale": [
             [
              0,
              "#0d0887"
             ],
             [
              0.1111111111111111,
              "#46039f"
             ],
             [
              0.2222222222222222,
              "#7201a8"
             ],
             [
              0.3333333333333333,
              "#9c179e"
             ],
             [
              0.4444444444444444,
              "#bd3786"
             ],
             [
              0.5555555555555556,
              "#d8576b"
             ],
             [
              0.6666666666666666,
              "#ed7953"
             ],
             [
              0.7777777777777778,
              "#fb9f3a"
             ],
             [
              0.8888888888888888,
              "#fdca26"
             ],
             [
              1,
              "#f0f921"
             ]
            ],
            "type": "histogram2d"
           }
          ],
          "histogram2dcontour": [
           {
            "colorbar": {
             "outlinewidth": 0,
             "ticks": ""
            },
            "colorscale": [
             [
              0,
              "#0d0887"
             ],
             [
              0.1111111111111111,
              "#46039f"
             ],
             [
              0.2222222222222222,
              "#7201a8"
             ],
             [
              0.3333333333333333,
              "#9c179e"
             ],
             [
              0.4444444444444444,
              "#bd3786"
             ],
             [
              0.5555555555555556,
              "#d8576b"
             ],
             [
              0.6666666666666666,
              "#ed7953"
             ],
             [
              0.7777777777777778,
              "#fb9f3a"
             ],
             [
              0.8888888888888888,
              "#fdca26"
             ],
             [
              1,
              "#f0f921"
             ]
            ],
            "type": "histogram2dcontour"
           }
          ],
          "mesh3d": [
           {
            "colorbar": {
             "outlinewidth": 0,
             "ticks": ""
            },
            "type": "mesh3d"
           }
          ],
          "parcoords": [
           {
            "line": {
             "colorbar": {
              "outlinewidth": 0,
              "ticks": ""
             }
            },
            "type": "parcoords"
           }
          ],
          "pie": [
           {
            "automargin": true,
            "type": "pie"
           }
          ],
          "scatter": [
           {
            "fillpattern": {
             "fillmode": "overlay",
             "size": 10,
             "solidity": 0.2
            },
            "type": "scatter"
           }
          ],
          "scatter3d": [
           {
            "line": {
             "colorbar": {
              "outlinewidth": 0,
              "ticks": ""
             }
            },
            "marker": {
             "colorbar": {
              "outlinewidth": 0,
              "ticks": ""
             }
            },
            "type": "scatter3d"
           }
          ],
          "scattercarpet": [
           {
            "marker": {
             "colorbar": {
              "outlinewidth": 0,
              "ticks": ""
             }
            },
            "type": "scattercarpet"
           }
          ],
          "scattergeo": [
           {
            "marker": {
             "colorbar": {
              "outlinewidth": 0,
              "ticks": ""
             }
            },
            "type": "scattergeo"
           }
          ],
          "scattergl": [
           {
            "marker": {
             "colorbar": {
              "outlinewidth": 0,
              "ticks": ""
             }
            },
            "type": "scattergl"
           }
          ],
          "scattermapbox": [
           {
            "marker": {
             "colorbar": {
              "outlinewidth": 0,
              "ticks": ""
             }
            },
            "type": "scattermapbox"
           }
          ],
          "scatterpolar": [
           {
            "marker": {
             "colorbar": {
              "outlinewidth": 0,
              "ticks": ""
             }
            },
            "type": "scatterpolar"
           }
          ],
          "scatterpolargl": [
           {
            "marker": {
             "colorbar": {
              "outlinewidth": 0,
              "ticks": ""
             }
            },
            "type": "scatterpolargl"
           }
          ],
          "scatterternary": [
           {
            "marker": {
             "colorbar": {
              "outlinewidth": 0,
              "ticks": ""
             }
            },
            "type": "scatterternary"
           }
          ],
          "surface": [
           {
            "colorbar": {
             "outlinewidth": 0,
             "ticks": ""
            },
            "colorscale": [
             [
              0,
              "#0d0887"
             ],
             [
              0.1111111111111111,
              "#46039f"
             ],
             [
              0.2222222222222222,
              "#7201a8"
             ],
             [
              0.3333333333333333,
              "#9c179e"
             ],
             [
              0.4444444444444444,
              "#bd3786"
             ],
             [
              0.5555555555555556,
              "#d8576b"
             ],
             [
              0.6666666666666666,
              "#ed7953"
             ],
             [
              0.7777777777777778,
              "#fb9f3a"
             ],
             [
              0.8888888888888888,
              "#fdca26"
             ],
             [
              1,
              "#f0f921"
             ]
            ],
            "type": "surface"
           }
          ],
          "table": [
           {
            "cells": {
             "fill": {
              "color": "#EBF0F8"
             },
             "line": {
              "color": "white"
             }
            },
            "header": {
             "fill": {
              "color": "#C8D4E3"
             },
             "line": {
              "color": "white"
             }
            },
            "type": "table"
           }
          ]
         },
         "layout": {
          "annotationdefaults": {
           "arrowcolor": "#2a3f5f",
           "arrowhead": 0,
           "arrowwidth": 1
          },
          "autotypenumbers": "strict",
          "coloraxis": {
           "colorbar": {
            "outlinewidth": 0,
            "ticks": ""
           }
          },
          "colorscale": {
           "diverging": [
            [
             0,
             "#8e0152"
            ],
            [
             0.1,
             "#c51b7d"
            ],
            [
             0.2,
             "#de77ae"
            ],
            [
             0.3,
             "#f1b6da"
            ],
            [
             0.4,
             "#fde0ef"
            ],
            [
             0.5,
             "#f7f7f7"
            ],
            [
             0.6,
             "#e6f5d0"
            ],
            [
             0.7,
             "#b8e186"
            ],
            [
             0.8,
             "#7fbc41"
            ],
            [
             0.9,
             "#4d9221"
            ],
            [
             1,
             "#276419"
            ]
           ],
           "sequential": [
            [
             0,
             "#0d0887"
            ],
            [
             0.1111111111111111,
             "#46039f"
            ],
            [
             0.2222222222222222,
             "#7201a8"
            ],
            [
             0.3333333333333333,
             "#9c179e"
            ],
            [
             0.4444444444444444,
             "#bd3786"
            ],
            [
             0.5555555555555556,
             "#d8576b"
            ],
            [
             0.6666666666666666,
             "#ed7953"
            ],
            [
             0.7777777777777778,
             "#fb9f3a"
            ],
            [
             0.8888888888888888,
             "#fdca26"
            ],
            [
             1,
             "#f0f921"
            ]
           ],
           "sequentialminus": [
            [
             0,
             "#0d0887"
            ],
            [
             0.1111111111111111,
             "#46039f"
            ],
            [
             0.2222222222222222,
             "#7201a8"
            ],
            [
             0.3333333333333333,
             "#9c179e"
            ],
            [
             0.4444444444444444,
             "#bd3786"
            ],
            [
             0.5555555555555556,
             "#d8576b"
            ],
            [
             0.6666666666666666,
             "#ed7953"
            ],
            [
             0.7777777777777778,
             "#fb9f3a"
            ],
            [
             0.8888888888888888,
             "#fdca26"
            ],
            [
             1,
             "#f0f921"
            ]
           ]
          },
          "colorway": [
           "#636efa",
           "#EF553B",
           "#00cc96",
           "#ab63fa",
           "#FFA15A",
           "#19d3f3",
           "#FF6692",
           "#B6E880",
           "#FF97FF",
           "#FECB52"
          ],
          "font": {
           "color": "#2a3f5f"
          },
          "geo": {
           "bgcolor": "white",
           "lakecolor": "white",
           "landcolor": "#E5ECF6",
           "showlakes": true,
           "showland": true,
           "subunitcolor": "white"
          },
          "hoverlabel": {
           "align": "left"
          },
          "hovermode": "closest",
          "mapbox": {
           "style": "light"
          },
          "paper_bgcolor": "white",
          "plot_bgcolor": "#E5ECF6",
          "polar": {
           "angularaxis": {
            "gridcolor": "white",
            "linecolor": "white",
            "ticks": ""
           },
           "bgcolor": "#E5ECF6",
           "radialaxis": {
            "gridcolor": "white",
            "linecolor": "white",
            "ticks": ""
           }
          },
          "scene": {
           "xaxis": {
            "backgroundcolor": "#E5ECF6",
            "gridcolor": "white",
            "gridwidth": 2,
            "linecolor": "white",
            "showbackground": true,
            "ticks": "",
            "zerolinecolor": "white"
           },
           "yaxis": {
            "backgroundcolor": "#E5ECF6",
            "gridcolor": "white",
            "gridwidth": 2,
            "linecolor": "white",
            "showbackground": true,
            "ticks": "",
            "zerolinecolor": "white"
           },
           "zaxis": {
            "backgroundcolor": "#E5ECF6",
            "gridcolor": "white",
            "gridwidth": 2,
            "linecolor": "white",
            "showbackground": true,
            "ticks": "",
            "zerolinecolor": "white"
           }
          },
          "shapedefaults": {
           "line": {
            "color": "#2a3f5f"
           }
          },
          "ternary": {
           "aaxis": {
            "gridcolor": "white",
            "linecolor": "white",
            "ticks": ""
           },
           "baxis": {
            "gridcolor": "white",
            "linecolor": "white",
            "ticks": ""
           },
           "bgcolor": "#E5ECF6",
           "caxis": {
            "gridcolor": "white",
            "linecolor": "white",
            "ticks": ""
           }
          },
          "title": {
           "x": 0.05
          },
          "xaxis": {
           "automargin": true,
           "gridcolor": "white",
           "linecolor": "white",
           "ticks": "",
           "title": {
            "standoff": 15
           },
           "zerolinecolor": "white",
           "zerolinewidth": 2
          },
          "yaxis": {
           "automargin": true,
           "gridcolor": "white",
           "linecolor": "white",
           "ticks": "",
           "title": {
            "standoff": 15
           },
           "zerolinecolor": "white",
           "zerolinewidth": 2
          }
         }
        },
        "title": {
         "text": "EBITDA Over Time"
        },
        "xaxis": {
         "anchor": "y",
         "domain": [
          0,
          1
         ],
         "title": {
          "text": "Date"
         }
        },
        "yaxis": {
         "anchor": "x",
         "domain": [
          0,
          1
         ],
         "title": {
          "text": "EBITDA (in 10,000,000)"
         }
        }
       }
      }
     },
     "metadata": {},
     "output_type": "display_data"
    }
   ],
   "source": [
    "import yfinance as yf\n",
    "import plotly.express as px\n",
    "import pandas as pd\n",
    "\n",
    "EBITDA_df = Company_stock.financials.loc['EBITDA']\n",
    "EBITDA_df = pd.DataFrame(EBITDA_df)\n",
    "EBITDA_df.index = pd.to_datetime(EBITDA_df.index).year\n",
    "EBITDA_df = EBITDA_df.reset_index()\n",
    "EBITDA_df['EBITDA'] = EBITDA_df['EBITDA'].astype(int)\n",
    "EBITDA_df = EBITDA_df.rename(columns={'index': 'Date'})\n",
    "EBITDA_df['Date'] = EBITDA_df['Date'].astype(int)\n",
    "EBITDA_df.info()\n",
    "EBITDA_df\n",
    "fig = px.bar(EBITDA_df, x='Date', y='EBITDA', title='EBITDA Over Time', text='EBITDA', labels={'EBITDA': 'EBITDA (in 10,000,000)'},barmode='group', \n",
    "             text_auto=True)\n",
    "\n",
    "fig.show()\n"
   ]
  },
  {
   "cell_type": "code",
   "execution_count": 8,
   "metadata": {},
   "outputs": [
    {
     "data": {
      "application/vnd.plotly.v1+json": {
       "config": {
        "plotlyServerURL": "https://plot.ly"
       },
       "data": [
        {
         "alignmentgroup": "True",
         "hovertemplate": "Date=%{x}<br>EBITDA=%{text}<extra></extra>",
         "legendgroup": "",
         "marker": {
          "color": "#636efa",
          "pattern": {
           "shape": ""
          }
         },
         "name": "",
         "offsetgroup": "",
         "orientation": "v",
         "showlegend": false,
         "text": [
          105140000000,
          100239000000,
          85134000000,
          68423000000
         ],
         "textposition": "auto",
         "texttemplate": "%{y}",
         "type": "bar",
         "x": [
          2023,
          2022,
          2021,
          2020
         ],
         "xaxis": "x",
         "y": [
          105140000000,
          100239000000,
          85134000000,
          68423000000
         ],
         "yaxis": "y"
        }
       ],
       "layout": {
        "barmode": "group",
        "legend": {
         "tracegroupgap": 0
        },
        "template": {
         "data": {
          "bar": [
           {
            "error_x": {
             "color": "#2a3f5f"
            },
            "error_y": {
             "color": "#2a3f5f"
            },
            "marker": {
             "line": {
              "color": "#E5ECF6",
              "width": 0.5
             },
             "pattern": {
              "fillmode": "overlay",
              "size": 10,
              "solidity": 0.2
             }
            },
            "type": "bar"
           }
          ],
          "barpolar": [
           {
            "marker": {
             "line": {
              "color": "#E5ECF6",
              "width": 0.5
             },
             "pattern": {
              "fillmode": "overlay",
              "size": 10,
              "solidity": 0.2
             }
            },
            "type": "barpolar"
           }
          ],
          "carpet": [
           {
            "aaxis": {
             "endlinecolor": "#2a3f5f",
             "gridcolor": "white",
             "linecolor": "white",
             "minorgridcolor": "white",
             "startlinecolor": "#2a3f5f"
            },
            "baxis": {
             "endlinecolor": "#2a3f5f",
             "gridcolor": "white",
             "linecolor": "white",
             "minorgridcolor": "white",
             "startlinecolor": "#2a3f5f"
            },
            "type": "carpet"
           }
          ],
          "choropleth": [
           {
            "colorbar": {
             "outlinewidth": 0,
             "ticks": ""
            },
            "type": "choropleth"
           }
          ],
          "contour": [
           {
            "colorbar": {
             "outlinewidth": 0,
             "ticks": ""
            },
            "colorscale": [
             [
              0,
              "#0d0887"
             ],
             [
              0.1111111111111111,
              "#46039f"
             ],
             [
              0.2222222222222222,
              "#7201a8"
             ],
             [
              0.3333333333333333,
              "#9c179e"
             ],
             [
              0.4444444444444444,
              "#bd3786"
             ],
             [
              0.5555555555555556,
              "#d8576b"
             ],
             [
              0.6666666666666666,
              "#ed7953"
             ],
             [
              0.7777777777777778,
              "#fb9f3a"
             ],
             [
              0.8888888888888888,
              "#fdca26"
             ],
             [
              1,
              "#f0f921"
             ]
            ],
            "type": "contour"
           }
          ],
          "contourcarpet": [
           {
            "colorbar": {
             "outlinewidth": 0,
             "ticks": ""
            },
            "type": "contourcarpet"
           }
          ],
          "heatmap": [
           {
            "colorbar": {
             "outlinewidth": 0,
             "ticks": ""
            },
            "colorscale": [
             [
              0,
              "#0d0887"
             ],
             [
              0.1111111111111111,
              "#46039f"
             ],
             [
              0.2222222222222222,
              "#7201a8"
             ],
             [
              0.3333333333333333,
              "#9c179e"
             ],
             [
              0.4444444444444444,
              "#bd3786"
             ],
             [
              0.5555555555555556,
              "#d8576b"
             ],
             [
              0.6666666666666666,
              "#ed7953"
             ],
             [
              0.7777777777777778,
              "#fb9f3a"
             ],
             [
              0.8888888888888888,
              "#fdca26"
             ],
             [
              1,
              "#f0f921"
             ]
            ],
            "type": "heatmap"
           }
          ],
          "heatmapgl": [
           {
            "colorbar": {
             "outlinewidth": 0,
             "ticks": ""
            },
            "colorscale": [
             [
              0,
              "#0d0887"
             ],
             [
              0.1111111111111111,
              "#46039f"
             ],
             [
              0.2222222222222222,
              "#7201a8"
             ],
             [
              0.3333333333333333,
              "#9c179e"
             ],
             [
              0.4444444444444444,
              "#bd3786"
             ],
             [
              0.5555555555555556,
              "#d8576b"
             ],
             [
              0.6666666666666666,
              "#ed7953"
             ],
             [
              0.7777777777777778,
              "#fb9f3a"
             ],
             [
              0.8888888888888888,
              "#fdca26"
             ],
             [
              1,
              "#f0f921"
             ]
            ],
            "type": "heatmapgl"
           }
          ],
          "histogram": [
           {
            "marker": {
             "pattern": {
              "fillmode": "overlay",
              "size": 10,
              "solidity": 0.2
             }
            },
            "type": "histogram"
           }
          ],
          "histogram2d": [
           {
            "colorbar": {
             "outlinewidth": 0,
             "ticks": ""
            },
            "colorscale": [
             [
              0,
              "#0d0887"
             ],
             [
              0.1111111111111111,
              "#46039f"
             ],
             [
              0.2222222222222222,
              "#7201a8"
             ],
             [
              0.3333333333333333,
              "#9c179e"
             ],
             [
              0.4444444444444444,
              "#bd3786"
             ],
             [
              0.5555555555555556,
              "#d8576b"
             ],
             [
              0.6666666666666666,
              "#ed7953"
             ],
             [
              0.7777777777777778,
              "#fb9f3a"
             ],
             [
              0.8888888888888888,
              "#fdca26"
             ],
             [
              1,
              "#f0f921"
             ]
            ],
            "type": "histogram2d"
           }
          ],
          "histogram2dcontour": [
           {
            "colorbar": {
             "outlinewidth": 0,
             "ticks": ""
            },
            "colorscale": [
             [
              0,
              "#0d0887"
             ],
             [
              0.1111111111111111,
              "#46039f"
             ],
             [
              0.2222222222222222,
              "#7201a8"
             ],
             [
              0.3333333333333333,
              "#9c179e"
             ],
             [
              0.4444444444444444,
              "#bd3786"
             ],
             [
              0.5555555555555556,
              "#d8576b"
             ],
             [
              0.6666666666666666,
              "#ed7953"
             ],
             [
              0.7777777777777778,
              "#fb9f3a"
             ],
             [
              0.8888888888888888,
              "#fdca26"
             ],
             [
              1,
              "#f0f921"
             ]
            ],
            "type": "histogram2dcontour"
           }
          ],
          "mesh3d": [
           {
            "colorbar": {
             "outlinewidth": 0,
             "ticks": ""
            },
            "type": "mesh3d"
           }
          ],
          "parcoords": [
           {
            "line": {
             "colorbar": {
              "outlinewidth": 0,
              "ticks": ""
             }
            },
            "type": "parcoords"
           }
          ],
          "pie": [
           {
            "automargin": true,
            "type": "pie"
           }
          ],
          "scatter": [
           {
            "fillpattern": {
             "fillmode": "overlay",
             "size": 10,
             "solidity": 0.2
            },
            "type": "scatter"
           }
          ],
          "scatter3d": [
           {
            "line": {
             "colorbar": {
              "outlinewidth": 0,
              "ticks": ""
             }
            },
            "marker": {
             "colorbar": {
              "outlinewidth": 0,
              "ticks": ""
             }
            },
            "type": "scatter3d"
           }
          ],
          "scattercarpet": [
           {
            "marker": {
             "colorbar": {
              "outlinewidth": 0,
              "ticks": ""
             }
            },
            "type": "scattercarpet"
           }
          ],
          "scattergeo": [
           {
            "marker": {
             "colorbar": {
              "outlinewidth": 0,
              "ticks": ""
             }
            },
            "type": "scattergeo"
           }
          ],
          "scattergl": [
           {
            "marker": {
             "colorbar": {
              "outlinewidth": 0,
              "ticks": ""
             }
            },
            "type": "scattergl"
           }
          ],
          "scattermapbox": [
           {
            "marker": {
             "colorbar": {
              "outlinewidth": 0,
              "ticks": ""
             }
            },
            "type": "scattermapbox"
           }
          ],
          "scatterpolar": [
           {
            "marker": {
             "colorbar": {
              "outlinewidth": 0,
              "ticks": ""
             }
            },
            "type": "scatterpolar"
           }
          ],
          "scatterpolargl": [
           {
            "marker": {
             "colorbar": {
              "outlinewidth": 0,
              "ticks": ""
             }
            },
            "type": "scatterpolargl"
           }
          ],
          "scatterternary": [
           {
            "marker": {
             "colorbar": {
              "outlinewidth": 0,
              "ticks": ""
             }
            },
            "type": "scatterternary"
           }
          ],
          "surface": [
           {
            "colorbar": {
             "outlinewidth": 0,
             "ticks": ""
            },
            "colorscale": [
             [
              0,
              "#0d0887"
             ],
             [
              0.1111111111111111,
              "#46039f"
             ],
             [
              0.2222222222222222,
              "#7201a8"
             ],
             [
              0.3333333333333333,
              "#9c179e"
             ],
             [
              0.4444444444444444,
              "#bd3786"
             ],
             [
              0.5555555555555556,
              "#d8576b"
             ],
             [
              0.6666666666666666,
              "#ed7953"
             ],
             [
              0.7777777777777778,
              "#fb9f3a"
             ],
             [
              0.8888888888888888,
              "#fdca26"
             ],
             [
              1,
              "#f0f921"
             ]
            ],
            "type": "surface"
           }
          ],
          "table": [
           {
            "cells": {
             "fill": {
              "color": "#EBF0F8"
             },
             "line": {
              "color": "white"
             }
            },
            "header": {
             "fill": {
              "color": "#C8D4E3"
             },
             "line": {
              "color": "white"
             }
            },
            "type": "table"
           }
          ]
         },
         "layout": {
          "annotationdefaults": {
           "arrowcolor": "#2a3f5f",
           "arrowhead": 0,
           "arrowwidth": 1
          },
          "autotypenumbers": "strict",
          "coloraxis": {
           "colorbar": {
            "outlinewidth": 0,
            "ticks": ""
           }
          },
          "colorscale": {
           "diverging": [
            [
             0,
             "#8e0152"
            ],
            [
             0.1,
             "#c51b7d"
            ],
            [
             0.2,
             "#de77ae"
            ],
            [
             0.3,
             "#f1b6da"
            ],
            [
             0.4,
             "#fde0ef"
            ],
            [
             0.5,
             "#f7f7f7"
            ],
            [
             0.6,
             "#e6f5d0"
            ],
            [
             0.7,
             "#b8e186"
            ],
            [
             0.8,
             "#7fbc41"
            ],
            [
             0.9,
             "#4d9221"
            ],
            [
             1,
             "#276419"
            ]
           ],
           "sequential": [
            [
             0,
             "#0d0887"
            ],
            [
             0.1111111111111111,
             "#46039f"
            ],
            [
             0.2222222222222222,
             "#7201a8"
            ],
            [
             0.3333333333333333,
             "#9c179e"
            ],
            [
             0.4444444444444444,
             "#bd3786"
            ],
            [
             0.5555555555555556,
             "#d8576b"
            ],
            [
             0.6666666666666666,
             "#ed7953"
            ],
            [
             0.7777777777777778,
             "#fb9f3a"
            ],
            [
             0.8888888888888888,
             "#fdca26"
            ],
            [
             1,
             "#f0f921"
            ]
           ],
           "sequentialminus": [
            [
             0,
             "#0d0887"
            ],
            [
             0.1111111111111111,
             "#46039f"
            ],
            [
             0.2222222222222222,
             "#7201a8"
            ],
            [
             0.3333333333333333,
             "#9c179e"
            ],
            [
             0.4444444444444444,
             "#bd3786"
            ],
            [
             0.5555555555555556,
             "#d8576b"
            ],
            [
             0.6666666666666666,
             "#ed7953"
            ],
            [
             0.7777777777777778,
             "#fb9f3a"
            ],
            [
             0.8888888888888888,
             "#fdca26"
            ],
            [
             1,
             "#f0f921"
            ]
           ]
          },
          "colorway": [
           "#636efa",
           "#EF553B",
           "#00cc96",
           "#ab63fa",
           "#FFA15A",
           "#19d3f3",
           "#FF6692",
           "#B6E880",
           "#FF97FF",
           "#FECB52"
          ],
          "font": {
           "color": "#2a3f5f"
          },
          "geo": {
           "bgcolor": "white",
           "lakecolor": "white",
           "landcolor": "#E5ECF6",
           "showlakes": true,
           "showland": true,
           "subunitcolor": "white"
          },
          "hoverlabel": {
           "align": "left"
          },
          "hovermode": "closest",
          "mapbox": {
           "style": "light"
          },
          "paper_bgcolor": "white",
          "plot_bgcolor": "#E5ECF6",
          "polar": {
           "angularaxis": {
            "gridcolor": "white",
            "linecolor": "white",
            "ticks": ""
           },
           "bgcolor": "#E5ECF6",
           "radialaxis": {
            "gridcolor": "white",
            "linecolor": "white",
            "ticks": ""
           }
          },
          "scene": {
           "xaxis": {
            "backgroundcolor": "#E5ECF6",
            "gridcolor": "white",
            "gridwidth": 2,
            "linecolor": "white",
            "showbackground": true,
            "ticks": "",
            "zerolinecolor": "white"
           },
           "yaxis": {
            "backgroundcolor": "#E5ECF6",
            "gridcolor": "white",
            "gridwidth": 2,
            "linecolor": "white",
            "showbackground": true,
            "ticks": "",
            "zerolinecolor": "white"
           },
           "zaxis": {
            "backgroundcolor": "#E5ECF6",
            "gridcolor": "white",
            "gridwidth": 2,
            "linecolor": "white",
            "showbackground": true,
            "ticks": "",
            "zerolinecolor": "white"
           }
          },
          "shapedefaults": {
           "line": {
            "color": "#2a3f5f"
           }
          },
          "ternary": {
           "aaxis": {
            "gridcolor": "white",
            "linecolor": "white",
            "ticks": ""
           },
           "baxis": {
            "gridcolor": "white",
            "linecolor": "white",
            "ticks": ""
           },
           "bgcolor": "#E5ECF6",
           "caxis": {
            "gridcolor": "white",
            "linecolor": "white",
            "ticks": ""
           }
          },
          "title": {
           "x": 0.05
          },
          "xaxis": {
           "automargin": true,
           "gridcolor": "white",
           "linecolor": "white",
           "ticks": "",
           "title": {
            "standoff": 15
           },
           "zerolinecolor": "white",
           "zerolinewidth": 2
          },
          "yaxis": {
           "automargin": true,
           "gridcolor": "white",
           "linecolor": "white",
           "ticks": "",
           "title": {
            "standoff": 15
           },
           "zerolinecolor": "white",
           "zerolinewidth": 2
          }
         }
        },
        "title": {
         "text": "EBITDA Over Time"
        },
        "xaxis": {
         "anchor": "y",
         "domain": [
          0,
          1
         ],
         "dtick": 1,
         "tickmode": "linear",
         "title": {
          "text": "Date"
         }
        },
        "yaxis": {
         "anchor": "x",
         "domain": [
          0,
          1
         ],
         "title": {
          "text": "EBITDA"
         }
        }
       }
      }
     },
     "metadata": {},
     "output_type": "display_data"
    }
   ],
   "source": [
    "EBITDA_df = Company_stock.financials.loc['EBITDA']\n",
    "EBITDA_df = pd.DataFrame(EBITDA_df)\n",
    "EBITDA_df.index = pd.to_datetime(EBITDA_df.index).year\n",
    "EBITDA_df = EBITDA_df.reset_index()\n",
    "EBITDA_df['EBITDA'] = EBITDA_df['EBITDA'].astype(int)\n",
    "EBITDA_df = EBITDA_df.rename(columns={'index': 'Date'})\n",
    "EBITDA_df['Date'] = EBITDA_df['Date'].astype(int)\n",
    "\n",
    "# Create a bar chart using plotly.express\n",
    "fig = px.bar(EBITDA_df, x='Date', y='EBITDA', title='EBITDA Over Time', text='EBITDA', barmode='group',\n",
    "             text_auto=True)\n",
    "\n",
    "# Format x-axis labels as integers\n",
    "fig.update_layout(xaxis={'tickmode': 'linear', 'dtick': 1})\n",
    "\n",
    "fig.show()"
   ]
  },
  {
   "cell_type": "code",
   "execution_count": 9,
   "metadata": {},
   "outputs": [
    {
     "data": {
      "application/vnd.plotly.v1+json": {
       "config": {
        "plotlyServerURL": "https://plot.ly"
       },
       "data": [
        {
         "alignmentgroup": "True",
         "hovertemplate": "Date=%{x}<br>Free Cash Flow=%{text}<extra></extra>",
         "legendgroup": "",
         "marker": {
          "color": "#636efa",
          "pattern": {
           "shape": ""
          }
         },
         "name": "",
         "offsetgroup": "",
         "orientation": "v",
         "showlegend": false,
         "text": [
          59475000000,
          65149000000,
          56118000000,
          45234000000
         ],
         "textposition": "auto",
         "texttemplate": "%{y}",
         "type": "bar",
         "x": [
          2023,
          2022,
          2021,
          2020
         ],
         "xaxis": "x",
         "y": [
          59475000000,
          65149000000,
          56118000000,
          45234000000
         ],
         "yaxis": "y"
        }
       ],
       "layout": {
        "barmode": "relative",
        "legend": {
         "tracegroupgap": 0
        },
        "template": {
         "data": {
          "bar": [
           {
            "error_x": {
             "color": "#2a3f5f"
            },
            "error_y": {
             "color": "#2a3f5f"
            },
            "marker": {
             "line": {
              "color": "#E5ECF6",
              "width": 0.5
             },
             "pattern": {
              "fillmode": "overlay",
              "size": 10,
              "solidity": 0.2
             }
            },
            "type": "bar"
           }
          ],
          "barpolar": [
           {
            "marker": {
             "line": {
              "color": "#E5ECF6",
              "width": 0.5
             },
             "pattern": {
              "fillmode": "overlay",
              "size": 10,
              "solidity": 0.2
             }
            },
            "type": "barpolar"
           }
          ],
          "carpet": [
           {
            "aaxis": {
             "endlinecolor": "#2a3f5f",
             "gridcolor": "white",
             "linecolor": "white",
             "minorgridcolor": "white",
             "startlinecolor": "#2a3f5f"
            },
            "baxis": {
             "endlinecolor": "#2a3f5f",
             "gridcolor": "white",
             "linecolor": "white",
             "minorgridcolor": "white",
             "startlinecolor": "#2a3f5f"
            },
            "type": "carpet"
           }
          ],
          "choropleth": [
           {
            "colorbar": {
             "outlinewidth": 0,
             "ticks": ""
            },
            "type": "choropleth"
           }
          ],
          "contour": [
           {
            "colorbar": {
             "outlinewidth": 0,
             "ticks": ""
            },
            "colorscale": [
             [
              0,
              "#0d0887"
             ],
             [
              0.1111111111111111,
              "#46039f"
             ],
             [
              0.2222222222222222,
              "#7201a8"
             ],
             [
              0.3333333333333333,
              "#9c179e"
             ],
             [
              0.4444444444444444,
              "#bd3786"
             ],
             [
              0.5555555555555556,
              "#d8576b"
             ],
             [
              0.6666666666666666,
              "#ed7953"
             ],
             [
              0.7777777777777778,
              "#fb9f3a"
             ],
             [
              0.8888888888888888,
              "#fdca26"
             ],
             [
              1,
              "#f0f921"
             ]
            ],
            "type": "contour"
           }
          ],
          "contourcarpet": [
           {
            "colorbar": {
             "outlinewidth": 0,
             "ticks": ""
            },
            "type": "contourcarpet"
           }
          ],
          "heatmap": [
           {
            "colorbar": {
             "outlinewidth": 0,
             "ticks": ""
            },
            "colorscale": [
             [
              0,
              "#0d0887"
             ],
             [
              0.1111111111111111,
              "#46039f"
             ],
             [
              0.2222222222222222,
              "#7201a8"
             ],
             [
              0.3333333333333333,
              "#9c179e"
             ],
             [
              0.4444444444444444,
              "#bd3786"
             ],
             [
              0.5555555555555556,
              "#d8576b"
             ],
             [
              0.6666666666666666,
              "#ed7953"
             ],
             [
              0.7777777777777778,
              "#fb9f3a"
             ],
             [
              0.8888888888888888,
              "#fdca26"
             ],
             [
              1,
              "#f0f921"
             ]
            ],
            "type": "heatmap"
           }
          ],
          "heatmapgl": [
           {
            "colorbar": {
             "outlinewidth": 0,
             "ticks": ""
            },
            "colorscale": [
             [
              0,
              "#0d0887"
             ],
             [
              0.1111111111111111,
              "#46039f"
             ],
             [
              0.2222222222222222,
              "#7201a8"
             ],
             [
              0.3333333333333333,
              "#9c179e"
             ],
             [
              0.4444444444444444,
              "#bd3786"
             ],
             [
              0.5555555555555556,
              "#d8576b"
             ],
             [
              0.6666666666666666,
              "#ed7953"
             ],
             [
              0.7777777777777778,
              "#fb9f3a"
             ],
             [
              0.8888888888888888,
              "#fdca26"
             ],
             [
              1,
              "#f0f921"
             ]
            ],
            "type": "heatmapgl"
           }
          ],
          "histogram": [
           {
            "marker": {
             "pattern": {
              "fillmode": "overlay",
              "size": 10,
              "solidity": 0.2
             }
            },
            "type": "histogram"
           }
          ],
          "histogram2d": [
           {
            "colorbar": {
             "outlinewidth": 0,
             "ticks": ""
            },
            "colorscale": [
             [
              0,
              "#0d0887"
             ],
             [
              0.1111111111111111,
              "#46039f"
             ],
             [
              0.2222222222222222,
              "#7201a8"
             ],
             [
              0.3333333333333333,
              "#9c179e"
             ],
             [
              0.4444444444444444,
              "#bd3786"
             ],
             [
              0.5555555555555556,
              "#d8576b"
             ],
             [
              0.6666666666666666,
              "#ed7953"
             ],
             [
              0.7777777777777778,
              "#fb9f3a"
             ],
             [
              0.8888888888888888,
              "#fdca26"
             ],
             [
              1,
              "#f0f921"
             ]
            ],
            "type": "histogram2d"
           }
          ],
          "histogram2dcontour": [
           {
            "colorbar": {
             "outlinewidth": 0,
             "ticks": ""
            },
            "colorscale": [
             [
              0,
              "#0d0887"
             ],
             [
              0.1111111111111111,
              "#46039f"
             ],
             [
              0.2222222222222222,
              "#7201a8"
             ],
             [
              0.3333333333333333,
              "#9c179e"
             ],
             [
              0.4444444444444444,
              "#bd3786"
             ],
             [
              0.5555555555555556,
              "#d8576b"
             ],
             [
              0.6666666666666666,
              "#ed7953"
             ],
             [
              0.7777777777777778,
              "#fb9f3a"
             ],
             [
              0.8888888888888888,
              "#fdca26"
             ],
             [
              1,
              "#f0f921"
             ]
            ],
            "type": "histogram2dcontour"
           }
          ],
          "mesh3d": [
           {
            "colorbar": {
             "outlinewidth": 0,
             "ticks": ""
            },
            "type": "mesh3d"
           }
          ],
          "parcoords": [
           {
            "line": {
             "colorbar": {
              "outlinewidth": 0,
              "ticks": ""
             }
            },
            "type": "parcoords"
           }
          ],
          "pie": [
           {
            "automargin": true,
            "type": "pie"
           }
          ],
          "scatter": [
           {
            "fillpattern": {
             "fillmode": "overlay",
             "size": 10,
             "solidity": 0.2
            },
            "type": "scatter"
           }
          ],
          "scatter3d": [
           {
            "line": {
             "colorbar": {
              "outlinewidth": 0,
              "ticks": ""
             }
            },
            "marker": {
             "colorbar": {
              "outlinewidth": 0,
              "ticks": ""
             }
            },
            "type": "scatter3d"
           }
          ],
          "scattercarpet": [
           {
            "marker": {
             "colorbar": {
              "outlinewidth": 0,
              "ticks": ""
             }
            },
            "type": "scattercarpet"
           }
          ],
          "scattergeo": [
           {
            "marker": {
             "colorbar": {
              "outlinewidth": 0,
              "ticks": ""
             }
            },
            "type": "scattergeo"
           }
          ],
          "scattergl": [
           {
            "marker": {
             "colorbar": {
              "outlinewidth": 0,
              "ticks": ""
             }
            },
            "type": "scattergl"
           }
          ],
          "scattermapbox": [
           {
            "marker": {
             "colorbar": {
              "outlinewidth": 0,
              "ticks": ""
             }
            },
            "type": "scattermapbox"
           }
          ],
          "scatterpolar": [
           {
            "marker": {
             "colorbar": {
              "outlinewidth": 0,
              "ticks": ""
             }
            },
            "type": "scatterpolar"
           }
          ],
          "scatterpolargl": [
           {
            "marker": {
             "colorbar": {
              "outlinewidth": 0,
              "ticks": ""
             }
            },
            "type": "scatterpolargl"
           }
          ],
          "scatterternary": [
           {
            "marker": {
             "colorbar": {
              "outlinewidth": 0,
              "ticks": ""
             }
            },
            "type": "scatterternary"
           }
          ],
          "surface": [
           {
            "colorbar": {
             "outlinewidth": 0,
             "ticks": ""
            },
            "colorscale": [
             [
              0,
              "#0d0887"
             ],
             [
              0.1111111111111111,
              "#46039f"
             ],
             [
              0.2222222222222222,
              "#7201a8"
             ],
             [
              0.3333333333333333,
              "#9c179e"
             ],
             [
              0.4444444444444444,
              "#bd3786"
             ],
             [
              0.5555555555555556,
              "#d8576b"
             ],
             [
              0.6666666666666666,
              "#ed7953"
             ],
             [
              0.7777777777777778,
              "#fb9f3a"
             ],
             [
              0.8888888888888888,
              "#fdca26"
             ],
             [
              1,
              "#f0f921"
             ]
            ],
            "type": "surface"
           }
          ],
          "table": [
           {
            "cells": {
             "fill": {
              "color": "#EBF0F8"
             },
             "line": {
              "color": "white"
             }
            },
            "header": {
             "fill": {
              "color": "#C8D4E3"
             },
             "line": {
              "color": "white"
             }
            },
            "type": "table"
           }
          ]
         },
         "layout": {
          "annotationdefaults": {
           "arrowcolor": "#2a3f5f",
           "arrowhead": 0,
           "arrowwidth": 1
          },
          "autotypenumbers": "strict",
          "coloraxis": {
           "colorbar": {
            "outlinewidth": 0,
            "ticks": ""
           }
          },
          "colorscale": {
           "diverging": [
            [
             0,
             "#8e0152"
            ],
            [
             0.1,
             "#c51b7d"
            ],
            [
             0.2,
             "#de77ae"
            ],
            [
             0.3,
             "#f1b6da"
            ],
            [
             0.4,
             "#fde0ef"
            ],
            [
             0.5,
             "#f7f7f7"
            ],
            [
             0.6,
             "#e6f5d0"
            ],
            [
             0.7,
             "#b8e186"
            ],
            [
             0.8,
             "#7fbc41"
            ],
            [
             0.9,
             "#4d9221"
            ],
            [
             1,
             "#276419"
            ]
           ],
           "sequential": [
            [
             0,
             "#0d0887"
            ],
            [
             0.1111111111111111,
             "#46039f"
            ],
            [
             0.2222222222222222,
             "#7201a8"
            ],
            [
             0.3333333333333333,
             "#9c179e"
            ],
            [
             0.4444444444444444,
             "#bd3786"
            ],
            [
             0.5555555555555556,
             "#d8576b"
            ],
            [
             0.6666666666666666,
             "#ed7953"
            ],
            [
             0.7777777777777778,
             "#fb9f3a"
            ],
            [
             0.8888888888888888,
             "#fdca26"
            ],
            [
             1,
             "#f0f921"
            ]
           ],
           "sequentialminus": [
            [
             0,
             "#0d0887"
            ],
            [
             0.1111111111111111,
             "#46039f"
            ],
            [
             0.2222222222222222,
             "#7201a8"
            ],
            [
             0.3333333333333333,
             "#9c179e"
            ],
            [
             0.4444444444444444,
             "#bd3786"
            ],
            [
             0.5555555555555556,
             "#d8576b"
            ],
            [
             0.6666666666666666,
             "#ed7953"
            ],
            [
             0.7777777777777778,
             "#fb9f3a"
            ],
            [
             0.8888888888888888,
             "#fdca26"
            ],
            [
             1,
             "#f0f921"
            ]
           ]
          },
          "colorway": [
           "#636efa",
           "#EF553B",
           "#00cc96",
           "#ab63fa",
           "#FFA15A",
           "#19d3f3",
           "#FF6692",
           "#B6E880",
           "#FF97FF",
           "#FECB52"
          ],
          "font": {
           "color": "#2a3f5f"
          },
          "geo": {
           "bgcolor": "white",
           "lakecolor": "white",
           "landcolor": "#E5ECF6",
           "showlakes": true,
           "showland": true,
           "subunitcolor": "white"
          },
          "hoverlabel": {
           "align": "left"
          },
          "hovermode": "closest",
          "mapbox": {
           "style": "light"
          },
          "paper_bgcolor": "white",
          "plot_bgcolor": "#E5ECF6",
          "polar": {
           "angularaxis": {
            "gridcolor": "white",
            "linecolor": "white",
            "ticks": ""
           },
           "bgcolor": "#E5ECF6",
           "radialaxis": {
            "gridcolor": "white",
            "linecolor": "white",
            "ticks": ""
           }
          },
          "scene": {
           "xaxis": {
            "backgroundcolor": "#E5ECF6",
            "gridcolor": "white",
            "gridwidth": 2,
            "linecolor": "white",
            "showbackground": true,
            "ticks": "",
            "zerolinecolor": "white"
           },
           "yaxis": {
            "backgroundcolor": "#E5ECF6",
            "gridcolor": "white",
            "gridwidth": 2,
            "linecolor": "white",
            "showbackground": true,
            "ticks": "",
            "zerolinecolor": "white"
           },
           "zaxis": {
            "backgroundcolor": "#E5ECF6",
            "gridcolor": "white",
            "gridwidth": 2,
            "linecolor": "white",
            "showbackground": true,
            "ticks": "",
            "zerolinecolor": "white"
           }
          },
          "shapedefaults": {
           "line": {
            "color": "#2a3f5f"
           }
          },
          "ternary": {
           "aaxis": {
            "gridcolor": "white",
            "linecolor": "white",
            "ticks": ""
           },
           "baxis": {
            "gridcolor": "white",
            "linecolor": "white",
            "ticks": ""
           },
           "bgcolor": "#E5ECF6",
           "caxis": {
            "gridcolor": "white",
            "linecolor": "white",
            "ticks": ""
           }
          },
          "title": {
           "x": 0.05
          },
          "xaxis": {
           "automargin": true,
           "gridcolor": "white",
           "linecolor": "white",
           "ticks": "",
           "title": {
            "standoff": 15
           },
           "zerolinecolor": "white",
           "zerolinewidth": 2
          },
          "yaxis": {
           "automargin": true,
           "gridcolor": "white",
           "linecolor": "white",
           "ticks": "",
           "title": {
            "standoff": 15
           },
           "zerolinecolor": "white",
           "zerolinewidth": 2
          }
         }
        },
        "title": {
         "text": "Free Cash Flow Over Time"
        },
        "xaxis": {
         "anchor": "y",
         "domain": [
          0,
          1
         ],
         "dtick": 1,
         "tickmode": "linear",
         "title": {
          "text": "Date"
         }
        },
        "yaxis": {
         "anchor": "x",
         "domain": [
          0,
          1
         ],
         "title": {
          "text": "Free Cash Flow"
         }
        }
       }
      }
     },
     "metadata": {},
     "output_type": "display_data"
    },
    {
     "data": {
      "text/html": [
       "<div>\n",
       "<style scoped>\n",
       "    .dataframe tbody tr th:only-of-type {\n",
       "        vertical-align: middle;\n",
       "    }\n",
       "\n",
       "    .dataframe tbody tr th {\n",
       "        vertical-align: top;\n",
       "    }\n",
       "\n",
       "    .dataframe thead th {\n",
       "        text-align: right;\n",
       "    }\n",
       "</style>\n",
       "<table border=\"1\" class=\"dataframe\">\n",
       "  <thead>\n",
       "    <tr style=\"text-align: right;\">\n",
       "      <th></th>\n",
       "      <th>Date</th>\n",
       "      <th>Free Cash Flow</th>\n",
       "    </tr>\n",
       "  </thead>\n",
       "  <tbody>\n",
       "    <tr>\n",
       "      <th>0</th>\n",
       "      <td>2023</td>\n",
       "      <td>59475000000</td>\n",
       "    </tr>\n",
       "    <tr>\n",
       "      <th>1</th>\n",
       "      <td>2022</td>\n",
       "      <td>65149000000</td>\n",
       "    </tr>\n",
       "    <tr>\n",
       "      <th>2</th>\n",
       "      <td>2021</td>\n",
       "      <td>56118000000</td>\n",
       "    </tr>\n",
       "    <tr>\n",
       "      <th>3</th>\n",
       "      <td>2020</td>\n",
       "      <td>45234000000</td>\n",
       "    </tr>\n",
       "  </tbody>\n",
       "</table>\n",
       "</div>"
      ],
      "text/plain": [
       "   Date  Free Cash Flow\n",
       "0  2023     59475000000\n",
       "1  2022     65149000000\n",
       "2  2021     56118000000\n",
       "3  2020     45234000000"
      ]
     },
     "execution_count": 9,
     "metadata": {},
     "output_type": "execute_result"
    }
   ],
   "source": [
    "import yfinance as yf\n",
    "import plotly.express as px\n",
    "import pandas as pd\n",
    "\n",
    "\n",
    "stock_option = 'MSFT'\n",
    "Free_cash_flow = yf.Ticker(stock_option)\n",
    "Free_cash_flow = Free_cash_flow.cash_flow.loc['Free Cash Flow']\n",
    "Free_cash_flow = pd.DataFrame(Free_cash_flow)\n",
    "Free_cash_flow.index = pd.to_datetime(Free_cash_flow.index).year\n",
    "Free_cash_flow = Free_cash_flow.reset_index()\n",
    "Free_cash_flow.rename(columns={'index': 'Date'}, inplace=True)\n",
    "Free_cash_flow['Free Cash Flow'] = Free_cash_flow['Free Cash Flow'].astype(int)\n",
    "\n",
    "fig = px.bar(Free_cash_flow, x='Date', y='Free Cash Flow', title='Free Cash Flow Over Time', text='Free Cash Flow',\n",
    "              text_auto=True)\n",
    "fig.update_layout(xaxis={'tickmode': 'linear', 'dtick': 1})\n",
    "fig.show()\n",
    "Free_cash_flow  "
   ]
  },
  {
   "cell_type": "markdown",
   "metadata": {},
   "source": [
    "### Übung mit Funktion "
   ]
  },
  {
   "cell_type": "code",
   "execution_count": 93,
   "metadata": {},
   "outputs": [
    {
     "name": "stderr",
     "output_type": "stream",
     "text": [
      "/Users/riccardo/Desktop/Repositorys_Github/Streamlit-Regression-App/venv/lib/python3.9/site-packages/yfinance/utils.py:775: FutureWarning:\n",
      "\n",
      "The 'unit' keyword in TimedeltaIndex construction is deprecated and will be removed in a future version. Use pd.to_timedelta instead.\n",
      "\n",
      "[*********************100%%**********************]  1 of 1 completed"
     ]
    },
    {
     "name": "stderr",
     "output_type": "stream",
     "text": [
      "\n",
      "/Users/riccardo/Desktop/Repositorys_Github/Streamlit-Regression-App/venv/lib/python3.9/site-packages/yfinance/utils.py:775: FutureWarning:\n",
      "\n",
      "The 'unit' keyword in TimedeltaIndex construction is deprecated and will be removed in a future version. Use pd.to_timedelta instead.\n",
      "\n",
      "[*********************100%%**********************]  1 of 1 completed\n"
     ]
    },
    {
     "data": {
      "text/html": [
       "<div>\n",
       "<style scoped>\n",
       "    .dataframe tbody tr th:only-of-type {\n",
       "        vertical-align: middle;\n",
       "    }\n",
       "\n",
       "    .dataframe tbody tr th {\n",
       "        vertical-align: top;\n",
       "    }\n",
       "\n",
       "    .dataframe thead th {\n",
       "        text-align: right;\n",
       "    }\n",
       "</style>\n",
       "<table border=\"1\" class=\"dataframe\">\n",
       "  <thead>\n",
       "    <tr style=\"text-align: right;\">\n",
       "      <th></th>\n",
       "      <th>Date</th>\n",
       "      <th>Open</th>\n",
       "      <th>High</th>\n",
       "      <th>Low</th>\n",
       "      <th>Close</th>\n",
       "      <th>Adj Close</th>\n",
       "      <th>Volume</th>\n",
       "      <th>Open</th>\n",
       "      <th>High</th>\n",
       "      <th>Low</th>\n",
       "      <th>Close</th>\n",
       "      <th>Adj Close</th>\n",
       "      <th>Volume</th>\n",
       "    </tr>\n",
       "  </thead>\n",
       "  <tbody>\n",
       "    <tr>\n",
       "      <th>count</th>\n",
       "      <td>253</td>\n",
       "      <td>253.000000</td>\n",
       "      <td>253.000000</td>\n",
       "      <td>253.000000</td>\n",
       "      <td>253.000000</td>\n",
       "      <td>253.000000</td>\n",
       "      <td>2.530000e+02</td>\n",
       "      <td>253.000000</td>\n",
       "      <td>253.000000</td>\n",
       "      <td>253.000000</td>\n",
       "      <td>253.000000</td>\n",
       "      <td>253.000000</td>\n",
       "      <td>2.530000e+02</td>\n",
       "    </tr>\n",
       "    <tr>\n",
       "      <th>mean</th>\n",
       "      <td>2020-07-02 12:42:41.264822016</td>\n",
       "      <td>192.910237</td>\n",
       "      <td>195.465138</td>\n",
       "      <td>190.377431</td>\n",
       "      <td>193.026126</td>\n",
       "      <td>187.058166</td>\n",
       "      <td>3.765959e+07</td>\n",
       "      <td>95.267668</td>\n",
       "      <td>96.661769</td>\n",
       "      <td>93.912796</td>\n",
       "      <td>95.347075</td>\n",
       "      <td>93.275342</td>\n",
       "      <td>1.575646e+08</td>\n",
       "    </tr>\n",
       "    <tr>\n",
       "      <th>min</th>\n",
       "      <td>2020-01-02 00:00:00</td>\n",
       "      <td>137.009995</td>\n",
       "      <td>140.570007</td>\n",
       "      <td>132.520004</td>\n",
       "      <td>135.419998</td>\n",
       "      <td>130.852310</td>\n",
       "      <td>1.055060e+07</td>\n",
       "      <td>57.020000</td>\n",
       "      <td>57.125000</td>\n",
       "      <td>53.152500</td>\n",
       "      <td>56.092499</td>\n",
       "      <td>54.706993</td>\n",
       "      <td>4.669130e+07</td>\n",
       "    </tr>\n",
       "    <tr>\n",
       "      <th>25%</th>\n",
       "      <td>2020-04-02 00:00:00</td>\n",
       "      <td>174.199997</td>\n",
       "      <td>175.669998</td>\n",
       "      <td>170.910004</td>\n",
       "      <td>174.380005</td>\n",
       "      <td>168.179321</td>\n",
       "      <td>2.617760e+07</td>\n",
       "      <td>77.025002</td>\n",
       "      <td>78.167503</td>\n",
       "      <td>76.220001</td>\n",
       "      <td>77.385002</td>\n",
       "      <td>75.316750</td>\n",
       "      <td>1.108432e+08</td>\n",
       "    </tr>\n",
       "    <tr>\n",
       "      <th>50%</th>\n",
       "      <td>2020-07-02 00:00:00</td>\n",
       "      <td>200.419998</td>\n",
       "      <td>203.949997</td>\n",
       "      <td>197.740005</td>\n",
       "      <td>201.910004</td>\n",
       "      <td>195.642960</td>\n",
       "      <td>3.279080e+07</td>\n",
       "      <td>91.279999</td>\n",
       "      <td>92.970001</td>\n",
       "      <td>90.910004</td>\n",
       "      <td>91.632500</td>\n",
       "      <td>89.611061</td>\n",
       "      <td>1.380234e+08</td>\n",
       "    </tr>\n",
       "    <tr>\n",
       "      <th>75%</th>\n",
       "      <td>2020-10-01 00:00:00</td>\n",
       "      <td>213.100006</td>\n",
       "      <td>214.839996</td>\n",
       "      <td>210.309998</td>\n",
       "      <td>212.830002</td>\n",
       "      <td>206.363129</td>\n",
       "      <td>4.387230e+07</td>\n",
       "      <td>115.982498</td>\n",
       "      <td>117.279999</td>\n",
       "      <td>114.129997</td>\n",
       "      <td>115.750000</td>\n",
       "      <td>113.400627</td>\n",
       "      <td>1.875728e+08</td>\n",
       "    </tr>\n",
       "    <tr>\n",
       "      <th>max</th>\n",
       "      <td>2020-12-31 00:00:00</td>\n",
       "      <td>229.270004</td>\n",
       "      <td>232.860001</td>\n",
       "      <td>227.350006</td>\n",
       "      <td>231.649994</td>\n",
       "      <td>225.002441</td>\n",
       "      <td>9.701270e+07</td>\n",
       "      <td>138.050003</td>\n",
       "      <td>138.789993</td>\n",
       "      <td>134.339996</td>\n",
       "      <td>136.690002</td>\n",
       "      <td>134.146667</td>\n",
       "      <td>4.265100e+08</td>\n",
       "    </tr>\n",
       "    <tr>\n",
       "      <th>std</th>\n",
       "      <td>NaN</td>\n",
       "      <td>23.102141</td>\n",
       "      <td>22.634497</td>\n",
       "      <td>23.283062</td>\n",
       "      <td>22.995562</td>\n",
       "      <td>22.759389</td>\n",
       "      <td>1.690529e+07</td>\n",
       "      <td>22.011907</td>\n",
       "      <td>22.094637</td>\n",
       "      <td>21.579913</td>\n",
       "      <td>21.809814</td>\n",
       "      <td>21.545687</td>\n",
       "      <td>6.983072e+07</td>\n",
       "    </tr>\n",
       "  </tbody>\n",
       "</table>\n",
       "</div>"
      ],
      "text/plain": [
       "                                Date        Open        High         Low  \\\n",
       "count                            253  253.000000  253.000000  253.000000   \n",
       "mean   2020-07-02 12:42:41.264822016  192.910237  195.465138  190.377431   \n",
       "min              2020-01-02 00:00:00  137.009995  140.570007  132.520004   \n",
       "25%              2020-04-02 00:00:00  174.199997  175.669998  170.910004   \n",
       "50%              2020-07-02 00:00:00  200.419998  203.949997  197.740005   \n",
       "75%              2020-10-01 00:00:00  213.100006  214.839996  210.309998   \n",
       "max              2020-12-31 00:00:00  229.270004  232.860001  227.350006   \n",
       "std                              NaN   23.102141   22.634497   23.283062   \n",
       "\n",
       "            Close   Adj Close        Volume        Open        High  \\\n",
       "count  253.000000  253.000000  2.530000e+02  253.000000  253.000000   \n",
       "mean   193.026126  187.058166  3.765959e+07   95.267668   96.661769   \n",
       "min    135.419998  130.852310  1.055060e+07   57.020000   57.125000   \n",
       "25%    174.380005  168.179321  2.617760e+07   77.025002   78.167503   \n",
       "50%    201.910004  195.642960  3.279080e+07   91.279999   92.970001   \n",
       "75%    212.830002  206.363129  4.387230e+07  115.982498  117.279999   \n",
       "max    231.649994  225.002441  9.701270e+07  138.050003  138.789993   \n",
       "std     22.995562   22.759389  1.690529e+07   22.011907   22.094637   \n",
       "\n",
       "              Low       Close   Adj Close        Volume  \n",
       "count  253.000000  253.000000  253.000000  2.530000e+02  \n",
       "mean    93.912796   95.347075   93.275342  1.575646e+08  \n",
       "min     53.152500   56.092499   54.706993  4.669130e+07  \n",
       "25%     76.220001   77.385002   75.316750  1.108432e+08  \n",
       "50%     90.910004   91.632500   89.611061  1.380234e+08  \n",
       "75%    114.129997  115.750000  113.400627  1.875728e+08  \n",
       "max    134.339996  136.690002  134.146667  4.265100e+08  \n",
       "std     21.579913   21.809814   21.545687  6.983072e+07  "
      ]
     },
     "execution_count": 93,
     "metadata": {},
     "output_type": "execute_result"
    }
   ],
   "source": [
    "import yfinance as yf\n",
    "import pandas as pd\n",
    "\n",
    "class yf_financials:\n",
    "    def __init__(self, stock_option, start_date, end_date):\n",
    "        self.stock_option = stock_option\n",
    "        self.start_date = start_date    \n",
    "        self.end_date = end_date\n",
    "\n",
    "    def get_data(self):\n",
    "        ticker = {}\n",
    "        for option in self.stock_option:\n",
    "            ticker[option] = yf.download(option, start = self.start_date, end=self.end_date)\n",
    "        stock_df = pd.concat(ticker, axis=1)\n",
    "        stock_df.columns = stock_df.columns.droplevel()  # Heben Sie den MultiIndex auf\n",
    "        stock_df.reset_index(inplace = True)\n",
    "        return stock_df \n",
    "\n",
    "stock_data = yf_financials(['MSFT', 'AAPL'], start_date= '2020-01-01', end_date= '2021-01-01').get_data()\n",
    "stock_data.describe()"
   ]
  }
 ],
 "metadata": {
  "kernelspec": {
   "display_name": "stock_venv",
   "language": "python",
   "name": "python3"
  },
  "language_info": {
   "codemirror_mode": {
    "name": "ipython",
    "version": 3
   },
   "file_extension": ".py",
   "mimetype": "text/x-python",
   "name": "python",
   "nbconvert_exporter": "python",
   "pygments_lexer": "ipython3",
   "version": "3.9.6"
  }
 },
 "nbformat": 4,
 "nbformat_minor": 2
}
