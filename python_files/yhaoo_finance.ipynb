{
 "cells": [
  {
   "cell_type": "code",
   "execution_count": 1,
   "metadata": {},
   "outputs": [],
   "source": [
    "import yfinance as yf\n",
    "import pandas as pd\n",
    "import plotly.express as px\n",
    "\n"
   ]
  },
  {
   "cell_type": "code",
   "execution_count": null,
   "metadata": {},
   "outputs": [],
   "source": []
  },
  {
   "cell_type": "code",
   "execution_count": null,
   "metadata": {},
   "outputs": [],
   "source": []
  },
  {
   "cell_type": "code",
   "execution_count": 1,
   "metadata": {},
   "outputs": [
    {
     "name": "stdout",
     "output_type": "stream",
     "text": [
      "['__class__', '__delattr__', '__dict__', '__dir__', '__doc__', '__eq__', '__format__', '__ge__', '__getattribute__', '__gt__', '__hash__', '__init__', '__init_subclass__', '__le__', '__lt__', '__module__', '__ne__', '__new__', '__reduce__', '__reduce_ex__', '__repr__', '__setattr__', '__sizeof__', '__str__', '__subclasshook__', '__weakref__', '_analysis', '_base_url', '_data', '_download_options', '_earnings', '_earnings_dates', '_expirations', '_fast_info', '_fetch_ticker_tz', '_financials', '_fix_bad_stock_split', '_fix_missing_div_adjust', '_fix_prices_sudden_change', '_fix_unit_mixups', '_fix_unit_random_mixups', '_fix_unit_switch', '_fix_zeroes', '_fundamentals', '_get_ticker_tz', '_history', '_history_metadata', '_history_metadata_formatted', '_holders', '_isin', '_news', '_options2df', '_quote', '_reconstruct_intervals_batch', '_reconstruct_start_interval', '_shares', '_tz', '_underlying', 'actions', 'analyst_price_target', 'balance_sheet', 'balancesheet', 'basic_info', 'calendar', 'capital_gains', 'cash_flow', 'cashflow', 'dividends', 'earnings', 'earnings_dates', 'earnings_forecasts', 'earnings_trend', 'fast_info', 'financials', 'get_actions', 'get_analyst_price_target', 'get_balance_sheet', 'get_balancesheet', 'get_calendar', 'get_capital_gains', 'get_cash_flow', 'get_cashflow', 'get_dividends', 'get_earnings', 'get_earnings_dates', 'get_earnings_forecast', 'get_earnings_trend', 'get_fast_info', 'get_financials', 'get_history_metadata', 'get_income_stmt', 'get_incomestmt', 'get_info', 'get_institutional_holders', 'get_isin', 'get_major_holders', 'get_mutualfund_holders', 'get_news', 'get_recommendations', 'get_recommendations_summary', 'get_rev_forecast', 'get_shares', 'get_shares_full', 'get_splits', 'get_sustainability', 'get_trend_details', 'history', 'history_metadata', 'income_stmt', 'incomestmt', 'info', 'institutional_holders', 'isin', 'major_holders', 'mutualfund_holders', 'news', 'option_chain', 'options', 'quarterly_balance_sheet', 'quarterly_balancesheet', 'quarterly_cash_flow', 'quarterly_cashflow', 'quarterly_earnings', 'quarterly_financials', 'quarterly_income_stmt', 'quarterly_incomestmt', 'recommendations', 'recommendations_summary', 'revenue_forecasts', 'session', 'shares', 'splits', 'sustainability', 'ticker', 'trend_details']\n"
     ]
    },
    {
     "data": {
      "text/plain": [
       "70.38264"
      ]
     },
     "execution_count": 1,
     "metadata": {},
     "output_type": "execute_result"
    }
   ],
   "source": [
    "import yfinance as yf\n",
    "\n",
    "stock = 'TSLA'\n",
    "stock_info = yf.Ticker(stock)\n",
    "\n",
    "# Print all attributes of the Ticker object\n",
    "print(dir(stock_info))\n",
    "pe_ratio_ttm = stock_info.info.get('trailingPE')\n",
    "pe_ratio_ttm\n"
   ]
  },
  {
   "cell_type": "code",
   "execution_count": 29,
   "metadata": {},
   "outputs": [
    {
     "ename": "IndexError",
     "evalue": "single positional indexer is out-of-bounds",
     "output_type": "error",
     "traceback": [
      "\u001b[0;31m---------------------------------------------------------------------------\u001b[0m",
      "\u001b[0;31mIndexError\u001b[0m                                Traceback (most recent call last)",
      "Cell \u001b[0;32mIn[29], line 4\u001b[0m\n\u001b[1;32m      2\u001b[0m stock_info \u001b[38;5;241m=\u001b[39m yf\u001b[38;5;241m.\u001b[39mTicker(stock)\n\u001b[1;32m      3\u001b[0m dividends_data \u001b[38;5;241m=\u001b[39m yf\u001b[38;5;241m.\u001b[39mTicker(stock)\u001b[38;5;241m.\u001b[39mdividends\n\u001b[0;32m----> 4\u001b[0m last_dividend \u001b[38;5;241m=\u001b[39m \u001b[43mdividends_data\u001b[49m\u001b[38;5;241;43m.\u001b[39;49m\u001b[43miloc\u001b[49m\u001b[43m[\u001b[49m\u001b[38;5;241;43m-\u001b[39;49m\u001b[38;5;241;43m1\u001b[39;49m\u001b[43m]\u001b[49m\n\u001b[1;32m      5\u001b[0m last_dividend_str \u001b[38;5;241m=\u001b[39m \u001b[38;5;124mf\u001b[39m\u001b[38;5;124m\"\u001b[39m\u001b[38;5;132;01m{\u001b[39;00mlast_dividend\u001b[38;5;132;01m:\u001b[39;00m\u001b[38;5;124m.2f\u001b[39m\u001b[38;5;132;01m}\u001b[39;00m\u001b[38;5;124m EUR\u001b[39m\u001b[38;5;124m\"\u001b[39m  \u001b[38;5;66;03m# Format the dividend value\u001b[39;00m\n\u001b[1;32m      6\u001b[0m last_dividend_str\n",
      "File \u001b[0;32m~/Desktop/Repositorys_Github/Streamlit-Regression-App/stock_venv/lib/python3.10/site-packages/pandas/core/indexing.py:1103\u001b[0m, in \u001b[0;36m_LocationIndexer.__getitem__\u001b[0;34m(self, key)\u001b[0m\n\u001b[1;32m   1100\u001b[0m axis \u001b[38;5;241m=\u001b[39m \u001b[38;5;28mself\u001b[39m\u001b[38;5;241m.\u001b[39maxis \u001b[38;5;129;01mor\u001b[39;00m \u001b[38;5;241m0\u001b[39m\n\u001b[1;32m   1102\u001b[0m maybe_callable \u001b[38;5;241m=\u001b[39m com\u001b[38;5;241m.\u001b[39mapply_if_callable(key, \u001b[38;5;28mself\u001b[39m\u001b[38;5;241m.\u001b[39mobj)\n\u001b[0;32m-> 1103\u001b[0m \u001b[38;5;28;01mreturn\u001b[39;00m \u001b[38;5;28;43mself\u001b[39;49m\u001b[38;5;241;43m.\u001b[39;49m\u001b[43m_getitem_axis\u001b[49m\u001b[43m(\u001b[49m\u001b[43mmaybe_callable\u001b[49m\u001b[43m,\u001b[49m\u001b[43m \u001b[49m\u001b[43maxis\u001b[49m\u001b[38;5;241;43m=\u001b[39;49m\u001b[43maxis\u001b[49m\u001b[43m)\u001b[49m\n",
      "File \u001b[0;32m~/Desktop/Repositorys_Github/Streamlit-Regression-App/stock_venv/lib/python3.10/site-packages/pandas/core/indexing.py:1656\u001b[0m, in \u001b[0;36m_iLocIndexer._getitem_axis\u001b[0;34m(self, key, axis)\u001b[0m\n\u001b[1;32m   1653\u001b[0m     \u001b[38;5;28;01mraise\u001b[39;00m \u001b[38;5;167;01mTypeError\u001b[39;00m(\u001b[38;5;124m\"\u001b[39m\u001b[38;5;124mCannot index by location index with a non-integer key\u001b[39m\u001b[38;5;124m\"\u001b[39m)\n\u001b[1;32m   1655\u001b[0m \u001b[38;5;66;03m# validate the location\u001b[39;00m\n\u001b[0;32m-> 1656\u001b[0m \u001b[38;5;28;43mself\u001b[39;49m\u001b[38;5;241;43m.\u001b[39;49m\u001b[43m_validate_integer\u001b[49m\u001b[43m(\u001b[49m\u001b[43mkey\u001b[49m\u001b[43m,\u001b[49m\u001b[43m \u001b[49m\u001b[43maxis\u001b[49m\u001b[43m)\u001b[49m\n\u001b[1;32m   1658\u001b[0m \u001b[38;5;28;01mreturn\u001b[39;00m \u001b[38;5;28mself\u001b[39m\u001b[38;5;241m.\u001b[39mobj\u001b[38;5;241m.\u001b[39m_ixs(key, axis\u001b[38;5;241m=\u001b[39maxis)\n",
      "File \u001b[0;32m~/Desktop/Repositorys_Github/Streamlit-Regression-App/stock_venv/lib/python3.10/site-packages/pandas/core/indexing.py:1589\u001b[0m, in \u001b[0;36m_iLocIndexer._validate_integer\u001b[0;34m(self, key, axis)\u001b[0m\n\u001b[1;32m   1587\u001b[0m len_axis \u001b[38;5;241m=\u001b[39m \u001b[38;5;28mlen\u001b[39m(\u001b[38;5;28mself\u001b[39m\u001b[38;5;241m.\u001b[39mobj\u001b[38;5;241m.\u001b[39m_get_axis(axis))\n\u001b[1;32m   1588\u001b[0m \u001b[38;5;28;01mif\u001b[39;00m key \u001b[38;5;241m>\u001b[39m\u001b[38;5;241m=\u001b[39m len_axis \u001b[38;5;129;01mor\u001b[39;00m key \u001b[38;5;241m<\u001b[39m \u001b[38;5;241m-\u001b[39mlen_axis:\n\u001b[0;32m-> 1589\u001b[0m     \u001b[38;5;28;01mraise\u001b[39;00m \u001b[38;5;167;01mIndexError\u001b[39;00m(\u001b[38;5;124m\"\u001b[39m\u001b[38;5;124msingle positional indexer is out-of-bounds\u001b[39m\u001b[38;5;124m\"\u001b[39m)\n",
      "\u001b[0;31mIndexError\u001b[0m: single positional indexer is out-of-bounds"
     ]
    }
   ],
   "source": [
    "stock = 'TSLA'\n",
    "stock_info = yf.Ticker(stock)\n",
    "dividends_data = yf.Ticker(stock).dividends\n",
    "last_dividend = dividends_data.iloc[-1]\n",
    "last_dividend_str = f\"{last_dividend:.2f} EUR\"  # Format the dividend value\n",
    "last_dividend_str"
   ]
  },
  {
   "cell_type": "code",
   "execution_count": 30,
   "metadata": {},
   "outputs": [
    {
     "data": {
      "text/plain": [
       "Series([], Name: Dividends, dtype: float64)"
      ]
     },
     "execution_count": 30,
     "metadata": {},
     "output_type": "execute_result"
    }
   ],
   "source": [
    "stock_info.dividends"
   ]
  },
  {
   "cell_type": "code",
   "execution_count": null,
   "metadata": {},
   "outputs": [],
   "source": []
  },
  {
   "cell_type": "code",
   "execution_count": null,
   "metadata": {},
   "outputs": [],
   "source": []
  },
  {
   "cell_type": "code",
   "execution_count": 23,
   "metadata": {},
   "outputs": [
    {
     "name": "stdout",
     "output_type": "stream",
     "text": [
      "        Date         EBITDA\n",
      "0 2022-12-31  17657000000.0\n",
      "1 2021-12-31   9625000000.0\n",
      "2 2020-12-31   4224000000.0\n"
     ]
    }
   ],
   "source": [
    "import yfinance as yf\n",
    "import pandas as pd\n",
    "\n",
    "\n",
    "\n",
    "aapl = yf.Ticker(stock)\n",
    "financials = aapl.get_financials()\n",
    "ebitda_data = financials.loc['EBITDA', :]\n",
    "df = pd.DataFrame(ebitda_data).reset_index()  # Resetting index to convert the index to a column\n",
    "df = df.rename(columns={'index': 'Date'})\n",
    "print(df)"
   ]
  },
  {
   "cell_type": "code",
   "execution_count": 24,
   "metadata": {},
   "outputs": [
    {
     "data": {
      "text/plain": [
       "{'address1': 'One Apple Park Way',\n",
       " 'city': 'Cupertino',\n",
       " 'state': 'CA',\n",
       " 'zip': '95014',\n",
       " 'country': 'United States',\n",
       " 'phone': '408 996 1010',\n",
       " 'website': 'https://www.apple.com',\n",
       " 'industry': 'Consumer Electronics',\n",
       " 'industryKey': 'consumer-electronics',\n",
       " 'industryDisp': 'Consumer Electronics',\n",
       " 'sector': 'Technology',\n",
       " 'sectorKey': 'technology',\n",
       " 'sectorDisp': 'Technology',\n",
       " 'longBusinessSummary': 'Apple Inc. designs, manufactures, and markets smartphones, personal computers, tablets, wearables, and accessories worldwide. The company offers iPhone, a line of smartphones; Mac, a line of personal computers; iPad, a line of multi-purpose tablets; and wearables, home, and accessories comprising AirPods, Apple TV, Apple Watch, Beats products, and HomePod. It also provides AppleCare support and cloud services; and operates various platforms, including the App Store that allow customers to discover and download applications and digital content, such as books, music, video, games, and podcasts. In addition, the company offers various services, such as Apple Arcade, a game subscription service; Apple Fitness+, a personalized fitness service; Apple Music, which offers users a curated listening experience with on-demand radio stations; Apple News+, a subscription news and magazine service; Apple TV+, which offers exclusive original content; Apple Card, a co-branded credit card; and Apple Pay, a cashless payment service, as well as licenses its intellectual property. The company serves consumers, and small and mid-sized businesses; and the education, enterprise, and government markets. It distributes third-party applications for its products through the App Store. The company also sells its products through its retail and online stores, and direct sales force; and third-party cellular network carriers, wholesalers, retailers, and resellers. Apple Inc. was founded in 1976 and is headquartered in Cupertino, California.',\n",
       " 'fullTimeEmployees': 161000,\n",
       " 'companyOfficers': [{'maxAge': 1,\n",
       "   'name': 'Mr. Timothy D. Cook',\n",
       "   'age': 62,\n",
       "   'title': 'CEO & Director',\n",
       "   'yearBorn': 1961,\n",
       "   'fiscalYear': 2023,\n",
       "   'totalPay': 16239562,\n",
       "   'exercisedValue': 0,\n",
       "   'unexercisedValue': 0},\n",
       "  {'maxAge': 1,\n",
       "   'name': 'Mr. Luca  Maestri',\n",
       "   'age': 60,\n",
       "   'title': 'CFO & Senior VP',\n",
       "   'yearBorn': 1963,\n",
       "   'fiscalYear': 2023,\n",
       "   'totalPay': 4612242,\n",
       "   'exercisedValue': 0,\n",
       "   'unexercisedValue': 0},\n",
       "  {'maxAge': 1,\n",
       "   'name': 'Mr. Jeffrey E. Williams',\n",
       "   'age': 59,\n",
       "   'title': 'Chief Operating Officer',\n",
       "   'yearBorn': 1964,\n",
       "   'fiscalYear': 2023,\n",
       "   'totalPay': 4637585,\n",
       "   'exercisedValue': 0,\n",
       "   'unexercisedValue': 0},\n",
       "  {'maxAge': 1,\n",
       "   'name': 'Ms. Katherine L. Adams',\n",
       "   'age': 59,\n",
       "   'title': 'Senior VP, General Counsel & Secretary',\n",
       "   'yearBorn': 1964,\n",
       "   'fiscalYear': 2023,\n",
       "   'totalPay': 4618064,\n",
       "   'exercisedValue': 0,\n",
       "   'unexercisedValue': 0},\n",
       "  {'maxAge': 1,\n",
       "   'name': \"Ms. Deirdre  O'Brien\",\n",
       "   'age': 56,\n",
       "   'title': 'Senior Vice President of Retail',\n",
       "   'yearBorn': 1967,\n",
       "   'fiscalYear': 2023,\n",
       "   'totalPay': 4613369,\n",
       "   'exercisedValue': 0,\n",
       "   'unexercisedValue': 0},\n",
       "  {'maxAge': 1,\n",
       "   'name': 'Mr. Chris  Kondo',\n",
       "   'title': 'Senior Director of Corporate Accounting',\n",
       "   'fiscalYear': 2023,\n",
       "   'exercisedValue': 0,\n",
       "   'unexercisedValue': 0},\n",
       "  {'maxAge': 1,\n",
       "   'name': 'Mr. James  Wilson',\n",
       "   'title': 'Chief Technology Officer',\n",
       "   'fiscalYear': 2023,\n",
       "   'exercisedValue': 0,\n",
       "   'unexercisedValue': 0},\n",
       "  {'maxAge': 1,\n",
       "   'name': 'Suhasini  Chandramouli',\n",
       "   'title': 'Director of Investor Relations',\n",
       "   'fiscalYear': 2023,\n",
       "   'exercisedValue': 0,\n",
       "   'unexercisedValue': 0},\n",
       "  {'maxAge': 1,\n",
       "   'name': 'Mr. Greg  Joswiak',\n",
       "   'title': 'Senior Vice President of Worldwide Marketing',\n",
       "   'fiscalYear': 2023,\n",
       "   'exercisedValue': 0,\n",
       "   'unexercisedValue': 0},\n",
       "  {'maxAge': 1,\n",
       "   'name': 'Mr. Adrian  Perica',\n",
       "   'age': 49,\n",
       "   'title': 'Head of Corporate Development',\n",
       "   'yearBorn': 1974,\n",
       "   'fiscalYear': 2023,\n",
       "   'exercisedValue': 0,\n",
       "   'unexercisedValue': 0}],\n",
       " 'auditRisk': 4,\n",
       " 'boardRisk': 1,\n",
       " 'compensationRisk': 6,\n",
       " 'shareHolderRightsRisk': 1,\n",
       " 'overallRisk': 1,\n",
       " 'governanceEpochDate': 1704067200,\n",
       " 'compensationAsOfEpochDate': 1703980800,\n",
       " 'maxAge': 86400,\n",
       " 'priceHint': 2,\n",
       " 'previousClose': 185.59,\n",
       " 'open': 186.06,\n",
       " 'dayLow': 185.19,\n",
       " 'dayHigh': 186.74,\n",
       " 'regularMarketPreviousClose': 185.59,\n",
       " 'regularMarketOpen': 186.06,\n",
       " 'regularMarketDayLow': 185.19,\n",
       " 'regularMarketDayHigh': 186.74,\n",
       " 'dividendRate': 0.96,\n",
       " 'dividendYield': 0.0052,\n",
       " 'exDividendDate': 1699574400,\n",
       " 'payoutRatio': 0.1533,\n",
       " 'fiveYearAvgDividendYield': 0.8,\n",
       " 'beta': 1.29,\n",
       " 'trailingPE': 30.28013,\n",
       " 'forwardPE': 26.002796,\n",
       " 'volume': 40089596,\n",
       " 'regularMarketVolume': 40089596,\n",
       " 'averageVolume': 53972280,\n",
       " 'averageVolume10days': 55617120,\n",
       " 'averageDailyVolume10Day': 55617120,\n",
       " 'bid': 185.6,\n",
       " 'ask': 185.69,\n",
       " 'bidSize': 1300,\n",
       " 'askSize': 900,\n",
       " 'marketCap': 2874676346880,\n",
       " 'fiftyTwoWeekLow': 133.77,\n",
       " 'fiftyTwoWeekHigh': 199.62,\n",
       " 'priceToSalesTrailing12Months': 7.500101,\n",
       " 'fiftyDayAverage': 189.0204,\n",
       " 'twoHundredDayAverage': 180.69244,\n",
       " 'trailingAnnualDividendRate': 0.94,\n",
       " 'trailingAnnualDividendYield': 0.005064928,\n",
       " 'currency': 'USD',\n",
       " 'enterpriseValue': 2953942663168,\n",
       " 'profitMargins': 0.25305998,\n",
       " 'floatShares': 15535488445,\n",
       " 'sharesOutstanding': 15461900288,\n",
       " 'sharesShort': 108220157,\n",
       " 'sharesShortPriorMonth': 110653413,\n",
       " 'sharesShortPreviousMonthDate': 1701302400,\n",
       " 'dateShortInterest': 1703808000,\n",
       " 'sharesPercentSharesOut': 0.0069999998,\n",
       " 'heldPercentInsiders': 0.00072999997,\n",
       " 'heldPercentInstitutions': 0.61841,\n",
       " 'shortRatio': 2.06,\n",
       " 'shortPercentOfFloat': 0.0069999998,\n",
       " 'impliedSharesOutstanding': 15552799744,\n",
       " 'bookValue': 3.997,\n",
       " 'priceToBook': 46.514885,\n",
       " 'lastFiscalYearEnd': 1696032000,\n",
       " 'nextFiscalYearEnd': 1727654400,\n",
       " 'mostRecentQuarter': 1696032000,\n",
       " 'earningsQuarterlyGrowth': 0.108,\n",
       " 'netIncomeToCommon': 96995000320,\n",
       " 'trailingEps': 6.14,\n",
       " 'forwardEps': 7.15,\n",
       " 'pegRatio': 4.59,\n",
       " 'lastSplitFactor': '4:1',\n",
       " 'lastSplitDate': 1598832000,\n",
       " 'enterpriseToRevenue': 7.707,\n",
       " 'enterpriseToEbitda': 23.478,\n",
       " '52WeekChange': 0.3676622,\n",
       " 'SandP52WeekChange': 0.19866347,\n",
       " 'lastDividendValue': 0.24,\n",
       " 'lastDividendDate': 1699574400,\n",
       " 'exchange': 'NMS',\n",
       " 'quoteType': 'EQUITY',\n",
       " 'symbol': 'AAPL',\n",
       " 'underlyingSymbol': 'AAPL',\n",
       " 'shortName': 'Apple Inc.',\n",
       " 'longName': 'Apple Inc.',\n",
       " 'firstTradeDateEpochUtc': 345479400,\n",
       " 'timeZoneFullName': 'America/New_York',\n",
       " 'timeZoneShortName': 'EST',\n",
       " 'uuid': '8b10e4ae-9eeb-3684-921a-9ab27e4d87aa',\n",
       " 'messageBoardId': 'finmb_24937',\n",
       " 'gmtOffSetMilliseconds': -18000000,\n",
       " 'currentPrice': 185.92,\n",
       " 'targetHighPrice': 250.0,\n",
       " 'targetLowPrice': 159.0,\n",
       " 'targetMeanPrice': 199.57,\n",
       " 'targetMedianPrice': 200.0,\n",
       " 'recommendationMean': 2.2,\n",
       " 'recommendationKey': 'buy',\n",
       " 'numberOfAnalystOpinions': 39,\n",
       " 'totalCash': 61554999296,\n",
       " 'totalCashPerShare': 3.958,\n",
       " 'ebitda': 125820002304,\n",
       " 'totalDebt': 123930001408,\n",
       " 'quickRatio': 0.843,\n",
       " 'currentRatio': 0.988,\n",
       " 'totalRevenue': 383285002240,\n",
       " 'debtToEquity': 199.418,\n",
       " 'revenuePerShare': 24.344,\n",
       " 'returnOnAssets': 0.20256001,\n",
       " 'returnOnEquity': 1.7195,\n",
       " 'grossProfits': 170782000000,\n",
       " 'freeCashflow': 82179997696,\n",
       " 'operatingCashflow': 110543003648,\n",
       " 'earningsGrowth': 0.135,\n",
       " 'revenueGrowth': -0.007,\n",
       " 'grossMargins': 0.44131002,\n",
       " 'ebitdaMargins': 0.32827,\n",
       " 'operatingMargins': 0.30134,\n",
       " 'financialCurrency': 'USD',\n",
       " 'trailingPegRatio': 2.2284}"
      ]
     },
     "execution_count": 24,
     "metadata": {},
     "output_type": "execute_result"
    }
   ],
   "source": [
    "import yfinance as yf\n",
    "\n",
    "stock_symbol = 'AAPL'\n",
    "stock_info = yf.Ticker(stock_symbol).info\n",
    "\n",
    "pe_ratio = stock_info['trailingPE']\n",
    "pb_ratio = stock_info['priceToBook']\n",
    "debt_equity_ratio = stock_info['debtToEquity']\n",
    "stock_info\n"
   ]
  },
  {
   "cell_type": "code",
   "execution_count": 3,
   "metadata": {},
   "outputs": [
    {
     "data": {
      "text/plain": [
       "'Tesla, Inc. designs, develops, manufactures, leases, and sells electric vehicles, and energy generation and storage systems in the United States, China, and internationally. It operates in two segments, Automotive, and Energy Generation and Storage. The Automotive segment offers electric vehicles, as well as sells automotive regulatory credits; and non-warranty after-sales vehicle, used vehicles, retail merchandise, and vehicle insurance services. This segment also provides sedans and sport utility vehicles through direct and used vehicle sales, a network of Tesla Superchargers, and in-app upgrades; purchase financing and leasing services; services for electric vehicles through its company-owned service locations and Tesla mobile service technicians; and vehicle limited warranties and extended service plans. The Energy Generation and Storage segment engages in the design, manufacture, installation, sale, and leasing of solar energy generation and energy storage products, and related services to residential, commercial, and industrial customers and utilities through its website, stores, and galleries, as well as through a network of channel partners; and provision of service and repairs to its energy product customers, including under warranty, as well as various financing options to its solar customers. The company was formerly known as Tesla Motors, Inc. and changed its name to Tesla, Inc. in February 2017. Tesla, Inc. was incorporated in 2003 and is headquartered in Austin, Texas.'"
      ]
     },
     "execution_count": 3,
     "metadata": {},
     "output_type": "execute_result"
    }
   ],
   "source": [
    "stock = 'TSLA'\n",
    "stock_info = yf.Ticker(stock)\n",
    "aapl_info = stock_info.get_info()\n",
    "aapl_info['longBusinessSummary']"
   ]
  },
  {
   "cell_type": "code",
   "execution_count": 4,
   "metadata": {},
   "outputs": [
    {
     "data": {
      "text/html": [
       "<div>\n",
       "<style scoped>\n",
       "    .dataframe tbody tr th:only-of-type {\n",
       "        vertical-align: middle;\n",
       "    }\n",
       "\n",
       "    .dataframe tbody tr th {\n",
       "        vertical-align: top;\n",
       "    }\n",
       "\n",
       "    .dataframe thead th {\n",
       "        text-align: right;\n",
       "    }\n",
       "</style>\n",
       "<table border=\"1\" class=\"dataframe\">\n",
       "  <thead>\n",
       "    <tr style=\"text-align: right;\">\n",
       "      <th></th>\n",
       "      <th>CostOfRevenue</th>\n",
       "      <th>TotalRevenue</th>\n",
       "    </tr>\n",
       "    <tr>\n",
       "      <th>Date</th>\n",
       "      <th></th>\n",
       "      <th></th>\n",
       "    </tr>\n",
       "  </thead>\n",
       "  <tbody>\n",
       "    <tr>\n",
       "      <th>2023-06-30</th>\n",
       "      <td>65863000000.0</td>\n",
       "      <td>211915000000.0</td>\n",
       "    </tr>\n",
       "    <tr>\n",
       "      <th>2022-06-30</th>\n",
       "      <td>62650000000.0</td>\n",
       "      <td>198270000000.0</td>\n",
       "    </tr>\n",
       "    <tr>\n",
       "      <th>2021-06-30</th>\n",
       "      <td>52232000000.0</td>\n",
       "      <td>168088000000.0</td>\n",
       "    </tr>\n",
       "    <tr>\n",
       "      <th>2020-06-30</th>\n",
       "      <td>46078000000.0</td>\n",
       "      <td>143015000000.0</td>\n",
       "    </tr>\n",
       "  </tbody>\n",
       "</table>\n",
       "</div>"
      ],
      "text/plain": [
       "            CostOfRevenue    TotalRevenue\n",
       "Date                                     \n",
       "2023-06-30  65863000000.0  211915000000.0\n",
       "2022-06-30  62650000000.0  198270000000.0\n",
       "2021-06-30  52232000000.0  168088000000.0\n",
       "2020-06-30  46078000000.0  143015000000.0"
      ]
     },
     "execution_count": 4,
     "metadata": {},
     "output_type": "execute_result"
    }
   ],
   "source": [
    "import yfinance as yf\n",
    "import plotly.express as px\n",
    "\n",
    "stock_option = 'MSFT'\n",
    "Company_stock = yf.Ticker(stock_option)\n",
    "\n",
    "# Finanzdaten abrufen\n",
    "financials = Company_stock.get_financials()\n",
    "revenue = financials.loc['CostOfRevenue':'TotalRevenue']\n",
    "revenue = revenue.T\n",
    "revenue.index = revenue.index.date\n",
    "revenue.index.name = 'Date'\n",
    "revenue\n",
    "# # Calculate the number of rows based on the number of columns in the revenue DataFrame\n",
    "\n",
    "\n",
    "# # Bar-Chart erstellen\n",
    "# fig = px.bar(revenue, x=revenue.index, y=['CostOfRevenue', 'TotalRevenue'],\n",
    "#              labels={'x': 'Date', 'y': 'Revenue (in Billion $)'},\n",
    "#              title=f'Revenue Breakdown for {stock_option}',\n",
    "#              color_discrete_map={'CostOfRevenue': 'red', 'TotalRevenue': 'blue'})\n",
    "\n",
    "# # Layout anpassen\n",
    "# fig.update_layout(barmode='group', xaxis_tickangle=-45)\n",
    "\n",
    "# # Adjust the height of the plot based on the number of columns in the revenue DataFrame\n",
    "\n",
    "# # Show the plot (use fig.show() in a script or non-interactive environment)\n",
    "# fig.show()\n"
   ]
  },
  {
   "cell_type": "code",
   "execution_count": 14,
   "metadata": {},
   "outputs": [
    {
     "name": "stdout",
     "output_type": "stream",
     "text": [
      "Collecting nbformat\n",
      "  Downloading nbformat-5.9.2-py3-none-any.whl (77 kB)\n",
      "\u001b[2K     \u001b[90m━━━━━━━━━━━━━━━━━━━━━━━━━━━━━━━━━━━━━━━━\u001b[0m \u001b[32m77.6/77.6 kB\u001b[0m \u001b[31m1.7 MB/s\u001b[0m eta \u001b[36m0:00:00\u001b[0ma \u001b[36m0:00:01\u001b[0m\n",
      "\u001b[?25hRequirement already satisfied: traitlets>=5.1 in /Users/riccardo/Desktop/Repositorys_Github/Streamlit-Regression-App/stock_venv/lib/python3.10/site-packages (from nbformat) (5.14.0)\n",
      "Requirement already satisfied: jupyter-core in /Users/riccardo/Desktop/Repositorys_Github/Streamlit-Regression-App/stock_venv/lib/python3.10/site-packages (from nbformat) (5.5.1)\n",
      "Collecting fastjsonschema\n",
      "  Downloading fastjsonschema-2.19.1-py3-none-any.whl (23 kB)\n",
      "Requirement already satisfied: jsonschema>=2.6 in /Users/riccardo/Desktop/Repositorys_Github/Streamlit-Regression-App/stock_venv/lib/python3.10/site-packages (from nbformat) (4.17.3)\n",
      "Requirement already satisfied: attrs>=17.4.0 in /Users/riccardo/Desktop/Repositorys_Github/Streamlit-Regression-App/stock_venv/lib/python3.10/site-packages (from jsonschema>=2.6->nbformat) (23.1.0)\n",
      "Requirement already satisfied: pyrsistent!=0.17.0,!=0.17.1,!=0.17.2,>=0.14.0 in /Users/riccardo/Desktop/Repositorys_Github/Streamlit-Regression-App/stock_venv/lib/python3.10/site-packages (from jsonschema>=2.6->nbformat) (0.19.3)\n",
      "Requirement already satisfied: platformdirs>=2.5 in /Users/riccardo/Desktop/Repositorys_Github/Streamlit-Regression-App/stock_venv/lib/python3.10/site-packages (from jupyter-core->nbformat) (4.1.0)\n",
      "Installing collected packages: fastjsonschema, nbformat\n",
      "Successfully installed fastjsonschema-2.19.1 nbformat-5.9.2\n",
      "\n",
      "\u001b[1m[\u001b[0m\u001b[34;49mnotice\u001b[0m\u001b[1;39;49m]\u001b[0m\u001b[39;49m A new release of pip available: \u001b[0m\u001b[31;49m22.3.1\u001b[0m\u001b[39;49m -> \u001b[0m\u001b[32;49m23.3.2\u001b[0m\n",
      "\u001b[1m[\u001b[0m\u001b[34;49mnotice\u001b[0m\u001b[1;39;49m]\u001b[0m\u001b[39;49m To update, run: \u001b[0m\u001b[32;49mpip install --upgrade pip\u001b[0m\n"
     ]
    }
   ],
   "source": []
  }
 ],
 "metadata": {
  "kernelspec": {
   "display_name": "stock_venv",
   "language": "python",
   "name": "python3"
  },
  "language_info": {
   "codemirror_mode": {
    "name": "ipython",
    "version": 3
   },
   "file_extension": ".py",
   "mimetype": "text/x-python",
   "name": "python",
   "nbconvert_exporter": "python",
   "pygments_lexer": "ipython3",
   "version": "3.10.9"
  }
 },
 "nbformat": 4,
 "nbformat_minor": 2
}
