{
 "cells": [
  {
   "cell_type": "code",
   "execution_count": 63,
   "metadata": {},
   "outputs": [],
   "source": [
    "import yfinance as yf\n",
    "import pandas as pd\n",
    "import plotly.express as px\n",
    "\n"
   ]
  },
  {
   "cell_type": "code",
   "execution_count": null,
   "metadata": {},
   "outputs": [],
   "source": [
    "\n"
   ]
  },
  {
   "cell_type": "code",
   "execution_count": 64,
   "metadata": {},
   "outputs": [
    {
     "name": "stdout",
     "output_type": "stream",
     "text": [
      "[*********************100%%**********************]  1 of 1 completed\n"
     ]
    }
   ],
   "source": [
    "stock_options = ['AAPL']  # Replace with your list of stock options\n",
    "\n",
    "data = yf.download(stock_options, start='2022-01-01', end='2023-01-01')[[\"Open\",\"Low\"]]\n"
   ]
  },
  {
   "cell_type": "code",
   "execution_count": 65,
   "metadata": {},
   "outputs": [
    {
     "name": "stdout",
     "output_type": "stream",
     "text": [
      "        Date          EBITDA\n",
      "0 2023-09-30  125820000000.0\n",
      "1 2022-09-30  130541000000.0\n",
      "2 2021-09-30  120233000000.0\n",
      "3 2020-09-30   77344000000.0\n"
     ]
    }
   ],
   "source": [
    "import yfinance as yf\n",
    "import pandas as pd\n",
    "\n",
    "stock = 'AAPL'\n",
    "aapl = yf.Ticker(stock)\n",
    "financials = aapl.get_financials()\n",
    "ebitda_data = financials.loc['EBITDA', :]\n",
    "df = pd.DataFrame(ebitda_data).reset_index()  # Resetting index to convert the index to a column\n",
    "df = df.rename(columns={'index': 'Date'})\n",
    "print(df)"
   ]
  },
  {
   "cell_type": "code",
   "execution_count": 74,
   "metadata": {},
   "outputs": [
    {
     "data": {
      "text/plain": [
       "{'address1': 'One Apple Park Way',\n",
       " 'city': 'Cupertino',\n",
       " 'state': 'CA',\n",
       " 'zip': '95014',\n",
       " 'country': 'United States',\n",
       " 'phone': '408 996 1010',\n",
       " 'website': 'https://www.apple.com',\n",
       " 'industry': 'Consumer Electronics',\n",
       " 'industryKey': 'consumer-electronics',\n",
       " 'industryDisp': 'Consumer Electronics',\n",
       " 'sector': 'Technology',\n",
       " 'sectorKey': 'technology',\n",
       " 'sectorDisp': 'Technology',\n",
       " 'longBusinessSummary': 'Apple Inc. designs, manufactures, and markets smartphones, personal computers, tablets, wearables, and accessories worldwide. The company offers iPhone, a line of smartphones; Mac, a line of personal computers; iPad, a line of multi-purpose tablets; and wearables, home, and accessories comprising AirPods, Apple TV, Apple Watch, Beats products, and HomePod. It also provides AppleCare support and cloud services; and operates various platforms, including the App Store that allow customers to discover and download applications and digital content, such as books, music, video, games, and podcasts. In addition, the company offers various services, such as Apple Arcade, a game subscription service; Apple Fitness+, a personalized fitness service; Apple Music, which offers users a curated listening experience with on-demand radio stations; Apple News+, a subscription news and magazine service; Apple TV+, which offers exclusive original content; Apple Card, a co-branded credit card; and Apple Pay, a cashless payment service, as well as licenses its intellectual property. The company serves consumers, and small and mid-sized businesses; and the education, enterprise, and government markets. It distributes third-party applications for its products through the App Store. The company also sells its products through its retail and online stores, and direct sales force; and third-party cellular network carriers, wholesalers, retailers, and resellers. Apple Inc. was founded in 1976 and is headquartered in Cupertino, California.',\n",
       " 'fullTimeEmployees': 161000,\n",
       " 'companyOfficers': [{'maxAge': 1,\n",
       "   'name': 'Mr. Timothy D. Cook',\n",
       "   'age': 62,\n",
       "   'title': 'CEO & Director',\n",
       "   'yearBorn': 1961,\n",
       "   'fiscalYear': 2022,\n",
       "   'totalPay': 16425933,\n",
       "   'exercisedValue': 0,\n",
       "   'unexercisedValue': 0},\n",
       "  {'maxAge': 1,\n",
       "   'name': 'Mr. Luca  Maestri',\n",
       "   'age': 60,\n",
       "   'title': 'CFO & Senior VP',\n",
       "   'yearBorn': 1963,\n",
       "   'fiscalYear': 2022,\n",
       "   'totalPay': 5019783,\n",
       "   'exercisedValue': 0,\n",
       "   'unexercisedValue': 0},\n",
       "  {'maxAge': 1,\n",
       "   'name': 'Mr. Jeffrey E. Williams',\n",
       "   'age': 59,\n",
       "   'title': 'Chief Operating Officer',\n",
       "   'yearBorn': 1964,\n",
       "   'fiscalYear': 2022,\n",
       "   'totalPay': 5018337,\n",
       "   'exercisedValue': 0,\n",
       "   'unexercisedValue': 0},\n",
       "  {'maxAge': 1,\n",
       "   'name': 'Ms. Katherine L. Adams',\n",
       "   'age': 59,\n",
       "   'title': 'Senior VP, General Counsel & Secretary',\n",
       "   'yearBorn': 1964,\n",
       "   'fiscalYear': 2022,\n",
       "   'totalPay': 5015208,\n",
       "   'exercisedValue': 0,\n",
       "   'unexercisedValue': 0},\n",
       "  {'maxAge': 1,\n",
       "   'name': \"Ms. Deirdre  O'Brien\",\n",
       "   'age': 56,\n",
       "   'title': 'Senior Vice President of Retail',\n",
       "   'yearBorn': 1967,\n",
       "   'fiscalYear': 2022,\n",
       "   'totalPay': 5019783,\n",
       "   'exercisedValue': 0,\n",
       "   'unexercisedValue': 0},\n",
       "  {'maxAge': 1,\n",
       "   'name': 'Mr. Chris  Kondo',\n",
       "   'title': 'Senior Director of Corporate Accounting',\n",
       "   'fiscalYear': 2022,\n",
       "   'exercisedValue': 0,\n",
       "   'unexercisedValue': 0},\n",
       "  {'maxAge': 1,\n",
       "   'name': 'Mr. James  Wilson',\n",
       "   'title': 'Chief Technology Officer',\n",
       "   'fiscalYear': 2022,\n",
       "   'exercisedValue': 0,\n",
       "   'unexercisedValue': 0},\n",
       "  {'maxAge': 1,\n",
       "   'name': 'Suhasini  Chandramouli',\n",
       "   'title': 'Director of Investor Relations',\n",
       "   'fiscalYear': 2022,\n",
       "   'exercisedValue': 0,\n",
       "   'unexercisedValue': 0},\n",
       "  {'maxAge': 1,\n",
       "   'name': 'Mr. Greg  Joswiak',\n",
       "   'title': 'Senior Vice President of Worldwide Marketing',\n",
       "   'fiscalYear': 2022,\n",
       "   'exercisedValue': 0,\n",
       "   'unexercisedValue': 0},\n",
       "  {'maxAge': 1,\n",
       "   'name': 'Mr. Adrian  Perica',\n",
       "   'age': 49,\n",
       "   'title': 'Head of Corporate Development',\n",
       "   'yearBorn': 1974,\n",
       "   'fiscalYear': 2022,\n",
       "   'exercisedValue': 0,\n",
       "   'unexercisedValue': 0}],\n",
       " 'auditRisk': 4,\n",
       " 'boardRisk': 1,\n",
       " 'compensationRisk': 6,\n",
       " 'shareHolderRightsRisk': 1,\n",
       " 'overallRisk': 1,\n",
       " 'governanceEpochDate': 1704067200,\n",
       " 'compensationAsOfEpochDate': 1672444800,\n",
       " 'maxAge': 86400,\n",
       " 'priceHint': 2,\n",
       " 'previousClose': 181.91,\n",
       " 'open': 181.99,\n",
       " 'dayLow': 180.17,\n",
       " 'dayHigh': 182.76,\n",
       " 'regularMarketPreviousClose': 181.91,\n",
       " 'regularMarketOpen': 181.99,\n",
       " 'regularMarketDayLow': 180.17,\n",
       " 'regularMarketDayHigh': 182.76,\n",
       " 'dividendRate': 0.96,\n",
       " 'dividendYield': 0.0053,\n",
       " 'exDividendDate': 1699574400,\n",
       " 'payoutRatio': 0.1533,\n",
       " 'fiveYearAvgDividendYield': 0.8,\n",
       " 'beta': 1.29,\n",
       " 'trailingPE': 29.604574,\n",
       " 'forwardPE': 25.339859,\n",
       " 'volume': 61666311,\n",
       " 'regularMarketVolume': 61666311,\n",
       " 'averageVolume': 54028051,\n",
       " 'averageVolume10days': 51248110,\n",
       " 'averageDailyVolume10Day': 51248110,\n",
       " 'bid': 180.98,\n",
       " 'ask': 180.81,\n",
       " 'bidSize': 1200,\n",
       " 'askSize': 900,\n",
       " 'marketCap': 2817856110592,\n",
       " 'fiftyTwoWeekLow': 128.12,\n",
       " 'fiftyTwoWeekHigh': 199.62,\n",
       " 'priceToSalesTrailing12Months': 7.3518558,\n",
       " 'fiftyDayAverage': 187.3978,\n",
       " 'twoHundredDayAverage': 180.01515,\n",
       " 'trailingAnnualDividendRate': 0.94,\n",
       " 'trailingAnnualDividendYield': 0.00516739,\n",
       " 'currency': 'USD',\n",
       " 'enterpriseValue': 2880222527488,\n",
       " 'profitMargins': 0.25305998,\n",
       " 'floatShares': 15535488445,\n",
       " 'sharesOutstanding': 15552799744,\n",
       " 'sharesShort': 120233720,\n",
       " 'sharesShortPriorMonth': 105837123,\n",
       " 'sharesShortPreviousMonthDate': 1700006400,\n",
       " 'dateShortInterest': 1702598400,\n",
       " 'sharesPercentSharesOut': 0.0077,\n",
       " 'heldPercentInsiders': 0.00074,\n",
       " 'heldPercentInstitutions': 0.61495996,\n",
       " 'shortRatio': 2.29,\n",
       " 'shortPercentOfFloat': 0.0077,\n",
       " 'impliedSharesOutstanding': 15752800256,\n",
       " 'bookValue': 3.997,\n",
       " 'priceToBook': 45.328995,\n",
       " 'lastFiscalYearEnd': 1696032000,\n",
       " 'nextFiscalYearEnd': 1727654400,\n",
       " 'mostRecentQuarter': 1696032000,\n",
       " 'earningsQuarterlyGrowth': 0.108,\n",
       " 'netIncomeToCommon': 96995000320,\n",
       " 'trailingEps': 6.12,\n",
       " 'forwardEps': 7.15,\n",
       " 'pegRatio': 4.5,\n",
       " 'lastSplitFactor': '4:1',\n",
       " 'lastSplitDate': 1598832000,\n",
       " 'enterpriseToRevenue': 7.515,\n",
       " 'enterpriseToEbitda': 22.892,\n",
       " '52WeekChange': 0.39208603,\n",
       " 'SandP52WeekChange': 0.20686829,\n",
       " 'lastDividendValue': 0.24,\n",
       " 'lastDividendDate': 1699574400,\n",
       " 'exchange': 'NMS',\n",
       " 'quoteType': 'EQUITY',\n",
       " 'symbol': 'AAPL',\n",
       " 'underlyingSymbol': 'AAPL',\n",
       " 'shortName': 'Apple Inc.',\n",
       " 'longName': 'Apple Inc.',\n",
       " 'firstTradeDateEpochUtc': 345479400,\n",
       " 'timeZoneFullName': 'America/New_York',\n",
       " 'timeZoneShortName': 'EST',\n",
       " 'uuid': '8b10e4ae-9eeb-3684-921a-9ab27e4d87aa',\n",
       " 'messageBoardId': 'finmb_24937',\n",
       " 'gmtOffSetMilliseconds': -18000000,\n",
       " 'currentPrice': 181.18,\n",
       " 'targetHighPrice': 250.0,\n",
       " 'targetLowPrice': 159.0,\n",
       " 'targetMeanPrice': 199.57,\n",
       " 'targetMedianPrice': 200.0,\n",
       " 'recommendationMean': 2.2,\n",
       " 'recommendationKey': 'buy',\n",
       " 'numberOfAnalystOpinions': 39,\n",
       " 'totalCash': 61554999296,\n",
       " 'totalCashPerShare': 3.958,\n",
       " 'ebitda': 125820002304,\n",
       " 'totalDebt': 123930001408,\n",
       " 'quickRatio': 0.843,\n",
       " 'currentRatio': 0.988,\n",
       " 'totalRevenue': 383285002240,\n",
       " 'debtToEquity': 199.418,\n",
       " 'revenuePerShare': 24.344,\n",
       " 'returnOnAssets': 0.20256001,\n",
       " 'returnOnEquity': 1.7195,\n",
       " 'grossProfits': 170782000000,\n",
       " 'freeCashflow': 82179997696,\n",
       " 'operatingCashflow': 110543003648,\n",
       " 'earningsGrowth': 0.135,\n",
       " 'revenueGrowth': -0.007,\n",
       " 'grossMargins': 0.44131002,\n",
       " 'ebitdaMargins': 0.32827,\n",
       " 'operatingMargins': 0.30134,\n",
       " 'financialCurrency': 'USD',\n",
       " 'trailingPegRatio': 2.1717}"
      ]
     },
     "execution_count": 74,
     "metadata": {},
     "output_type": "execute_result"
    }
   ],
   "source": [
    "import yfinance as yf\n",
    "\n",
    "stock_symbol = 'AAPL'\n",
    "stock_info = yf.Ticker(stock_symbol).info\n",
    "\n",
    "pe_ratio = stock_info['trailingPE']\n",
    "pb_ratio = stock_info['priceToBook']\n",
    "debt_equity_ratio = stock_info['debtToEquity']\n",
    "stock_info\n"
   ]
  },
  {
   "cell_type": "code",
   "execution_count": 80,
   "metadata": {},
   "outputs": [
    {
     "data": {
      "text/plain": [
       "'Microsoft Corporation develops and supports software, services, devices and solutions worldwide. The Productivity and Business Processes segment offers office, exchange, SharePoint, Microsoft Teams, office 365 Security and Compliance, Microsoft viva, and Microsoft 365 copilot; and office consumer services, such as Microsoft 365 consumer subscriptions, Office licensed on-premises, and other office services. This segment also provides LinkedIn; and dynamics business solutions, including Dynamics 365, a set of intelligent, cloud-based applications across ERP, CRM, power apps, and power automate; and on-premises ERP and CRM applications. The Intelligent Cloud segment offers server products and cloud services, such as azure and other cloud services; SQL and windows server, visual studio, system center, and related client access licenses, as well as nuance and GitHub; and enterprise services including enterprise support services, industry solutions, and nuance professional services. The More Personal Computing segment offers Windows, including windows OEM licensing and other non-volume licensing of the Windows operating system; Windows commercial comprising volume licensing of the Windows operating system, windows cloud services, and other Windows commercial offerings; patent licensing; and windows Internet of Things; and devices, such as surface, HoloLens, and PC accessories. Additionally, this segment provides gaming, which includes Xbox hardware and content, and first- and third-party content; Xbox game pass and other subscriptions, cloud gaming, advertising, third-party disc royalties, and other cloud services; and search and news advertising, which includes Bing, Microsoft News and Edge, and third-party affiliates. The company sells its products through OEMs, distributors, and resellers; and directly through digital marketplaces, online, and retail stores. The company was founded in 1975 and is headquartered in Redmond, Washington.'"
      ]
     },
     "execution_count": 80,
     "metadata": {},
     "output_type": "execute_result"
    }
   ],
   "source": [
    "aapl_info = aapl.get_info()\n",
    "aapl_info['longBusinessSummary']"
   ]
  },
  {
   "cell_type": "code",
   "execution_count": 79,
   "metadata": {},
   "outputs": [
    {
     "data": {
      "text/plain": [
       "2023-06-30    59475000000.0\n",
       "2022-06-30    65149000000.0\n",
       "2021-06-30    56118000000.0\n",
       "2020-06-30    45234000000.0\n",
       "Name: Free Cash Flow, dtype: object"
      ]
     },
     "execution_count": 79,
     "metadata": {},
     "output_type": "execute_result"
    }
   ],
   "source": [
    "aapl_info = aapl.cash_flow\n",
    "aapl_info.loc['Free Cash Flow']"
   ]
  }
 ],
 "metadata": {
  "kernelspec": {
   "display_name": "stock_venv",
   "language": "python",
   "name": "python3"
  },
  "language_info": {
   "codemirror_mode": {
    "name": "ipython",
    "version": 3
   },
   "file_extension": ".py",
   "mimetype": "text/x-python",
   "name": "python",
   "nbconvert_exporter": "python",
   "pygments_lexer": "ipython3",
   "version": "3.10.9"
  }
 },
 "nbformat": 4,
 "nbformat_minor": 2
}
