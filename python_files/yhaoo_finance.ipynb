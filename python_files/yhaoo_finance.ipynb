{
 "cells": [
  {
   "cell_type": "code",
   "execution_count": 1,
   "metadata": {},
   "outputs": [],
   "source": [
    "import yfinance as yf\n",
    "from datetime import datetime, timedelta\n",
    "import pandas as pd"
   ]
  },
  {
   "cell_type": "code",
   "execution_count": 52,
   "metadata": {},
   "outputs": [
    {
     "name": "stdout",
     "output_type": "stream",
     "text": [
      "0.24\n"
     ]
    }
   ],
   "source": [
    "import yfinance as yf\n",
    "import pandas as pd\n",
    "\n",
    "stock = \"AAPL\"\n",
    "aapl = yf.Ticker(stock)\n",
    "\n",
    "dividends_data = aapl.get_dividends()\n",
    "dividends_df = pd.DataFrame(dividends_data)\n",
    "\n",
    "# Index in separate Spalte \"Date\" umwandeln\n",
    "dividends_df['Date'] = dividends_df.index.date\n",
    "dividends_df['Time'] = dividends_df.index.time\n",
    "\n",
    "# Index zurücksetzen, um \"Date\" als separate Spalte zu behalten\n",
    "dividends_df = dividends_df.reset_index(drop=True)\n",
    "\n",
    "# Reihenfolge der Spalten im DataFrame\n",
    "dividends_df = dividends_df[['Date', 'Time', 'Dividends']]\n",
    "\n",
    "# Anzeigen des letzten Eintrags in der Spalte \"Dividends\"\n",
    "last_dividend = dividends_df['Dividends'].iloc[-1]\n",
    "print(last_dividend)\n"
   ]
  },
  {
   "cell_type": "code",
   "execution_count": 46,
   "metadata": {},
   "outputs": [
    {
     "name": "stdout",
     "output_type": "stream",
     "text": [
      "                                 Date      Time  Dividends\n",
      "Date                                                      \n",
      "1987-05-11 00:00:00-04:00  1987-05-11  00:00:00   0.000536\n",
      "1987-08-10 00:00:00-04:00  1987-08-10  00:00:00   0.000536\n",
      "1987-11-17 00:00:00-05:00  1987-11-17  00:00:00   0.000714\n",
      "1988-02-12 00:00:00-05:00  1988-02-12  00:00:00   0.000714\n",
      "1988-05-16 00:00:00-04:00  1988-05-16  00:00:00   0.000714\n",
      "...                               ...       ...        ...\n",
      "2022-11-04 00:00:00-04:00  2022-11-04  00:00:00   0.230000\n",
      "2023-02-10 00:00:00-05:00  2023-02-10  00:00:00   0.230000\n",
      "2023-05-12 00:00:00-04:00  2023-05-12  00:00:00   0.240000\n",
      "2023-08-11 00:00:00-04:00  2023-08-11  00:00:00   0.240000\n",
      "2023-11-10 00:00:00-05:00  2023-11-10  00:00:00   0.240000\n",
      "\n",
      "[81 rows x 3 columns]\n"
     ]
    }
   ],
   "source": [
    "print(dividends_df)"
   ]
  },
  {
   "cell_type": "code",
   "execution_count": 53,
   "metadata": {},
   "outputs": [
    {
     "ename": "AttributeError",
     "evalue": "'Ticker' object has no attribute 'get'",
     "output_type": "error",
     "traceback": [
      "\u001b[0;31m---------------------------------------------------------------------------\u001b[0m",
      "\u001b[0;31mAttributeError\u001b[0m                            Traceback (most recent call last)",
      "Cell \u001b[0;32mIn[53], line 1\u001b[0m\n\u001b[0;32m----> 1\u001b[0m PE_Ratio \u001b[38;5;241m=\u001b[39m \u001b[43maapl\u001b[49m\u001b[38;5;241;43m.\u001b[39;49m\u001b[43mget\u001b[49m(\u001b[38;5;124m'\u001b[39m\u001b[38;5;124mPE Ratio (TTM)\u001b[39m\u001b[38;5;124m'\u001b[39m, \u001b[38;5;124m'\u001b[39m\u001b[38;5;124mN/A\u001b[39m\u001b[38;5;124m'\u001b[39m)\n",
      "\u001b[0;31mAttributeError\u001b[0m: 'Ticker' object has no attribute 'get'"
     ]
    }
   ],
   "source": [
    "PE_Ratio = aapl.get('PE Ratio (TTM)', 'N/A')\n"
   ]
  },
  {
   "cell_type": "code",
   "execution_count": 21,
   "metadata": {},
   "outputs": [
    {
     "name": "stdout",
     "output_type": "stream",
     "text": [
      "                                 Date  Dividends\n",
      "Date                                            \n",
      "2023-11-10 00:00:00-05:00  2023-11-10       0.24\n"
     ]
    }
   ],
   "source": [
    "\n"
   ]
  },
  {
   "cell_type": "code",
   "execution_count": null,
   "metadata": {},
   "outputs": [],
   "source": []
  },
  {
   "cell_type": "code",
   "execution_count": null,
   "metadata": {},
   "outputs": [],
   "source": []
  },
  {
   "cell_type": "code",
   "execution_count": null,
   "metadata": {},
   "outputs": [],
   "source": []
  },
  {
   "cell_type": "code",
   "execution_count": 8,
   "metadata": {},
   "outputs": [
    {
     "name": "stdout",
     "output_type": "stream",
     "text": [
      "[*********************100%%**********************]  1 of 1 completed\n"
     ]
    },
    {
     "data": {
      "text/html": [
       "<div>\n",
       "<style scoped>\n",
       "    .dataframe tbody tr th:only-of-type {\n",
       "        vertical-align: middle;\n",
       "    }\n",
       "\n",
       "    .dataframe tbody tr th {\n",
       "        vertical-align: top;\n",
       "    }\n",
       "\n",
       "    .dataframe thead th {\n",
       "        text-align: right;\n",
       "    }\n",
       "</style>\n",
       "<table border=\"1\" class=\"dataframe\">\n",
       "  <thead>\n",
       "    <tr style=\"text-align: right;\">\n",
       "      <th></th>\n",
       "      <th>Open</th>\n",
       "      <th>Low</th>\n",
       "    </tr>\n",
       "    <tr>\n",
       "      <th>Date</th>\n",
       "      <th></th>\n",
       "      <th></th>\n",
       "    </tr>\n",
       "  </thead>\n",
       "  <tbody>\n",
       "    <tr>\n",
       "      <th>2022-01-03</th>\n",
       "      <td>177.830002</td>\n",
       "      <td>177.710007</td>\n",
       "    </tr>\n",
       "    <tr>\n",
       "      <th>2022-01-04</th>\n",
       "      <td>182.630005</td>\n",
       "      <td>179.119995</td>\n",
       "    </tr>\n",
       "    <tr>\n",
       "      <th>2022-01-05</th>\n",
       "      <td>179.610001</td>\n",
       "      <td>174.639999</td>\n",
       "    </tr>\n",
       "    <tr>\n",
       "      <th>2022-01-06</th>\n",
       "      <td>172.699997</td>\n",
       "      <td>171.639999</td>\n",
       "    </tr>\n",
       "    <tr>\n",
       "      <th>2022-01-07</th>\n",
       "      <td>172.889999</td>\n",
       "      <td>171.029999</td>\n",
       "    </tr>\n",
       "    <tr>\n",
       "      <th>...</th>\n",
       "      <td>...</td>\n",
       "      <td>...</td>\n",
       "    </tr>\n",
       "    <tr>\n",
       "      <th>2022-12-23</th>\n",
       "      <td>130.919998</td>\n",
       "      <td>129.639999</td>\n",
       "    </tr>\n",
       "    <tr>\n",
       "      <th>2022-12-27</th>\n",
       "      <td>131.380005</td>\n",
       "      <td>128.720001</td>\n",
       "    </tr>\n",
       "    <tr>\n",
       "      <th>2022-12-28</th>\n",
       "      <td>129.669998</td>\n",
       "      <td>125.870003</td>\n",
       "    </tr>\n",
       "    <tr>\n",
       "      <th>2022-12-29</th>\n",
       "      <td>127.989998</td>\n",
       "      <td>127.730003</td>\n",
       "    </tr>\n",
       "    <tr>\n",
       "      <th>2022-12-30</th>\n",
       "      <td>128.410004</td>\n",
       "      <td>127.430000</td>\n",
       "    </tr>\n",
       "  </tbody>\n",
       "</table>\n",
       "<p>251 rows × 2 columns</p>\n",
       "</div>"
      ],
      "text/plain": [
       "                  Open         Low\n",
       "Date                              \n",
       "2022-01-03  177.830002  177.710007\n",
       "2022-01-04  182.630005  179.119995\n",
       "2022-01-05  179.610001  174.639999\n",
       "2022-01-06  172.699997  171.639999\n",
       "2022-01-07  172.889999  171.029999\n",
       "...                ...         ...\n",
       "2022-12-23  130.919998  129.639999\n",
       "2022-12-27  131.380005  128.720001\n",
       "2022-12-28  129.669998  125.870003\n",
       "2022-12-29  127.989998  127.730003\n",
       "2022-12-30  128.410004  127.430000\n",
       "\n",
       "[251 rows x 2 columns]"
      ]
     },
     "execution_count": 8,
     "metadata": {},
     "output_type": "execute_result"
    }
   ],
   "source": [
    "import yfinance as yf\n",
    "import pandas as pd\n",
    "import plotly.express as px\n",
    "\n",
    "stock_options = ['AAPL']  # Replace with your list of stock options\n",
    "\n",
    "data = yf.download(stock_options, start='2022-01-01', end='2023-01-01')[[\"Open\",\"Low\"]]\n",
    "data"
   ]
  }
 ],
 "metadata": {
  "kernelspec": {
   "display_name": "stock_venv",
   "language": "python",
   "name": "python3"
  },
  "language_info": {
   "codemirror_mode": {
    "name": "ipython",
    "version": 3
   },
   "file_extension": ".py",
   "mimetype": "text/x-python",
   "name": "python",
   "nbconvert_exporter": "python",
   "pygments_lexer": "ipython3",
   "version": "3.10.9"
  }
 },
 "nbformat": 4,
 "nbformat_minor": 2
}
